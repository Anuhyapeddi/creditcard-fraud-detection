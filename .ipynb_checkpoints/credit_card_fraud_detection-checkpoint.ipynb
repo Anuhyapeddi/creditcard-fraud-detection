{
 "cells": [
  {
   "cell_type": "markdown",
   "metadata": {
    "colab_type": "text",
    "id": "vbd2__F8u6U1"
   },
   "source": [
    "## Credit Card Fraud Detection\n",
    "The dataset contains transactions made over a period of two days in September 2013 by European credit cardholders. The dataset is highly unbalanced, the positive class (frauds) account for 0.172% of all transactions. We need to take care of the data imbalance while building the model and come up with the best model by trying various algorithms. \n",
    "we follow this steps\n",
    "1. importing and reading the dataset\n",
    "2. understand and visulaizing the dataset data\n",
    "3. data cleaning--preaparing it for modelling\n",
    "4. developing the model\n",
    "5. Evaluating the model\n",
    "\n",
    "dataset kaggle link: https://www.kaggle.com/datasets/mlg-ulb/creditcardfraud/     (150mb in size)"
   ]
  },
  {
   "cell_type": "code",
   "execution_count": 1,
   "metadata": {
    "colab": {
     "base_uri": "https://localhost:8080/",
     "height": 71
    },
    "colab_type": "code",
    "id": "IBb6AuWDu6U5",
    "outputId": "bf921bcd-fd07-451e-d7c4-4bcc75526937"
   },
   "outputs": [
    {
     "name": "stderr",
     "output_type": "stream",
     "text": [
      "C:\\Users\\jay\\AppData\\Local\\Programs\\Python\\Python310\\lib\\site-packages\\scipy\\__init__.py:146: UserWarning: A NumPy version >=1.17.3 and <1.25.0 is required for this version of SciPy (detected version 1.26.1\n",
      "  warnings.warn(f\"A NumPy version >={np_minversion} and <{np_maxversion}\"\n"
     ]
    }
   ],
   "source": [
    "# Importing the libraries\n",
    "import pandas as pd\n",
    "import numpy as np\n",
    "\n",
    "import matplotlib.pyplot as plt\n",
    "%matplotlib inline\n",
    "import seaborn as sns\n",
    "\n",
    "import warnings\n",
    "warnings.filterwarnings('ignore')"
   ]
  },
  {
   "cell_type": "code",
   "execution_count": 2,
   "metadata": {
    "colab": {},
    "colab_type": "code",
    "id": "g43Ol5VWu6U_"
   },
   "outputs": [],
   "source": [
    "pd.set_option('display.max_columns', 500)"
   ]
  },
  {
   "cell_type": "markdown",
   "metadata": {
    "colab_type": "text",
    "id": "Bxf8Cw4Fu6VG"
   },
   "source": [
    "## 1 Importing, reading the dataset"
   ]
  },
  {
   "cell_type": "code",
   "execution_count": 3,
   "metadata": {
    "colab": {
     "base_uri": "https://localhost:8080/",
     "height": 224
    },
    "colab_type": "code",
    "id": "nJT8RzWfu6VH",
    "outputId": "4e6fdc84-2888-40ed-924a-c46f7a2e6f40"
   },
   "outputs": [
    {
     "data": {
      "text/html": [
       "<div>\n",
       "<style scoped>\n",
       "    .dataframe tbody tr th:only-of-type {\n",
       "        vertical-align: middle;\n",
       "    }\n",
       "\n",
       "    .dataframe tbody tr th {\n",
       "        vertical-align: top;\n",
       "    }\n",
       "\n",
       "    .dataframe thead th {\n",
       "        text-align: right;\n",
       "    }\n",
       "</style>\n",
       "<table border=\"1\" class=\"dataframe\">\n",
       "  <thead>\n",
       "    <tr style=\"text-align: right;\">\n",
       "      <th></th>\n",
       "      <th>Time</th>\n",
       "      <th>V1</th>\n",
       "      <th>V2</th>\n",
       "      <th>V3</th>\n",
       "      <th>V4</th>\n",
       "      <th>V5</th>\n",
       "      <th>V6</th>\n",
       "      <th>V7</th>\n",
       "      <th>V8</th>\n",
       "      <th>V9</th>\n",
       "      <th>V10</th>\n",
       "      <th>V11</th>\n",
       "      <th>V12</th>\n",
       "      <th>V13</th>\n",
       "      <th>V14</th>\n",
       "      <th>V15</th>\n",
       "      <th>V16</th>\n",
       "      <th>V17</th>\n",
       "      <th>V18</th>\n",
       "      <th>V19</th>\n",
       "      <th>V20</th>\n",
       "      <th>V21</th>\n",
       "      <th>V22</th>\n",
       "      <th>V23</th>\n",
       "      <th>V24</th>\n",
       "      <th>V25</th>\n",
       "      <th>V26</th>\n",
       "      <th>V27</th>\n",
       "      <th>V28</th>\n",
       "      <th>Amount</th>\n",
       "      <th>Class</th>\n",
       "    </tr>\n",
       "  </thead>\n",
       "  <tbody>\n",
       "    <tr>\n",
       "      <th>0</th>\n",
       "      <td>0.0</td>\n",
       "      <td>-1.359807</td>\n",
       "      <td>-0.072781</td>\n",
       "      <td>2.536347</td>\n",
       "      <td>1.378155</td>\n",
       "      <td>-0.338321</td>\n",
       "      <td>0.462388</td>\n",
       "      <td>0.239599</td>\n",
       "      <td>0.098698</td>\n",
       "      <td>0.363787</td>\n",
       "      <td>0.090794</td>\n",
       "      <td>-0.551600</td>\n",
       "      <td>-0.617801</td>\n",
       "      <td>-0.991390</td>\n",
       "      <td>-0.311169</td>\n",
       "      <td>1.468177</td>\n",
       "      <td>-0.470401</td>\n",
       "      <td>0.207971</td>\n",
       "      <td>0.025791</td>\n",
       "      <td>0.403993</td>\n",
       "      <td>0.251412</td>\n",
       "      <td>-0.018307</td>\n",
       "      <td>0.277838</td>\n",
       "      <td>-0.110474</td>\n",
       "      <td>0.066928</td>\n",
       "      <td>0.128539</td>\n",
       "      <td>-0.189115</td>\n",
       "      <td>0.133558</td>\n",
       "      <td>-0.021053</td>\n",
       "      <td>149.62</td>\n",
       "      <td>0</td>\n",
       "    </tr>\n",
       "    <tr>\n",
       "      <th>1</th>\n",
       "      <td>0.0</td>\n",
       "      <td>1.191857</td>\n",
       "      <td>0.266151</td>\n",
       "      <td>0.166480</td>\n",
       "      <td>0.448154</td>\n",
       "      <td>0.060018</td>\n",
       "      <td>-0.082361</td>\n",
       "      <td>-0.078803</td>\n",
       "      <td>0.085102</td>\n",
       "      <td>-0.255425</td>\n",
       "      <td>-0.166974</td>\n",
       "      <td>1.612727</td>\n",
       "      <td>1.065235</td>\n",
       "      <td>0.489095</td>\n",
       "      <td>-0.143772</td>\n",
       "      <td>0.635558</td>\n",
       "      <td>0.463917</td>\n",
       "      <td>-0.114805</td>\n",
       "      <td>-0.183361</td>\n",
       "      <td>-0.145783</td>\n",
       "      <td>-0.069083</td>\n",
       "      <td>-0.225775</td>\n",
       "      <td>-0.638672</td>\n",
       "      <td>0.101288</td>\n",
       "      <td>-0.339846</td>\n",
       "      <td>0.167170</td>\n",
       "      <td>0.125895</td>\n",
       "      <td>-0.008983</td>\n",
       "      <td>0.014724</td>\n",
       "      <td>2.69</td>\n",
       "      <td>0</td>\n",
       "    </tr>\n",
       "    <tr>\n",
       "      <th>2</th>\n",
       "      <td>1.0</td>\n",
       "      <td>-1.358354</td>\n",
       "      <td>-1.340163</td>\n",
       "      <td>1.773209</td>\n",
       "      <td>0.379780</td>\n",
       "      <td>-0.503198</td>\n",
       "      <td>1.800499</td>\n",
       "      <td>0.791461</td>\n",
       "      <td>0.247676</td>\n",
       "      <td>-1.514654</td>\n",
       "      <td>0.207643</td>\n",
       "      <td>0.624501</td>\n",
       "      <td>0.066084</td>\n",
       "      <td>0.717293</td>\n",
       "      <td>-0.165946</td>\n",
       "      <td>2.345865</td>\n",
       "      <td>-2.890083</td>\n",
       "      <td>1.109969</td>\n",
       "      <td>-0.121359</td>\n",
       "      <td>-2.261857</td>\n",
       "      <td>0.524980</td>\n",
       "      <td>0.247998</td>\n",
       "      <td>0.771679</td>\n",
       "      <td>0.909412</td>\n",
       "      <td>-0.689281</td>\n",
       "      <td>-0.327642</td>\n",
       "      <td>-0.139097</td>\n",
       "      <td>-0.055353</td>\n",
       "      <td>-0.059752</td>\n",
       "      <td>378.66</td>\n",
       "      <td>0</td>\n",
       "    </tr>\n",
       "    <tr>\n",
       "      <th>3</th>\n",
       "      <td>1.0</td>\n",
       "      <td>-0.966272</td>\n",
       "      <td>-0.185226</td>\n",
       "      <td>1.792993</td>\n",
       "      <td>-0.863291</td>\n",
       "      <td>-0.010309</td>\n",
       "      <td>1.247203</td>\n",
       "      <td>0.237609</td>\n",
       "      <td>0.377436</td>\n",
       "      <td>-1.387024</td>\n",
       "      <td>-0.054952</td>\n",
       "      <td>-0.226487</td>\n",
       "      <td>0.178228</td>\n",
       "      <td>0.507757</td>\n",
       "      <td>-0.287924</td>\n",
       "      <td>-0.631418</td>\n",
       "      <td>-1.059647</td>\n",
       "      <td>-0.684093</td>\n",
       "      <td>1.965775</td>\n",
       "      <td>-1.232622</td>\n",
       "      <td>-0.208038</td>\n",
       "      <td>-0.108300</td>\n",
       "      <td>0.005274</td>\n",
       "      <td>-0.190321</td>\n",
       "      <td>-1.175575</td>\n",
       "      <td>0.647376</td>\n",
       "      <td>-0.221929</td>\n",
       "      <td>0.062723</td>\n",
       "      <td>0.061458</td>\n",
       "      <td>123.50</td>\n",
       "      <td>0</td>\n",
       "    </tr>\n",
       "    <tr>\n",
       "      <th>4</th>\n",
       "      <td>2.0</td>\n",
       "      <td>-1.158233</td>\n",
       "      <td>0.877737</td>\n",
       "      <td>1.548718</td>\n",
       "      <td>0.403034</td>\n",
       "      <td>-0.407193</td>\n",
       "      <td>0.095921</td>\n",
       "      <td>0.592941</td>\n",
       "      <td>-0.270533</td>\n",
       "      <td>0.817739</td>\n",
       "      <td>0.753074</td>\n",
       "      <td>-0.822843</td>\n",
       "      <td>0.538196</td>\n",
       "      <td>1.345852</td>\n",
       "      <td>-1.119670</td>\n",
       "      <td>0.175121</td>\n",
       "      <td>-0.451449</td>\n",
       "      <td>-0.237033</td>\n",
       "      <td>-0.038195</td>\n",
       "      <td>0.803487</td>\n",
       "      <td>0.408542</td>\n",
       "      <td>-0.009431</td>\n",
       "      <td>0.798278</td>\n",
       "      <td>-0.137458</td>\n",
       "      <td>0.141267</td>\n",
       "      <td>-0.206010</td>\n",
       "      <td>0.502292</td>\n",
       "      <td>0.219422</td>\n",
       "      <td>0.215153</td>\n",
       "      <td>69.99</td>\n",
       "      <td>0</td>\n",
       "    </tr>\n",
       "  </tbody>\n",
       "</table>\n",
       "</div>"
      ],
      "text/plain": [
       "   Time        V1        V2        V3        V4        V5        V6        V7  \\\n",
       "0   0.0 -1.359807 -0.072781  2.536347  1.378155 -0.338321  0.462388  0.239599   \n",
       "1   0.0  1.191857  0.266151  0.166480  0.448154  0.060018 -0.082361 -0.078803   \n",
       "2   1.0 -1.358354 -1.340163  1.773209  0.379780 -0.503198  1.800499  0.791461   \n",
       "3   1.0 -0.966272 -0.185226  1.792993 -0.863291 -0.010309  1.247203  0.237609   \n",
       "4   2.0 -1.158233  0.877737  1.548718  0.403034 -0.407193  0.095921  0.592941   \n",
       "\n",
       "         V8        V9       V10       V11       V12       V13       V14  \\\n",
       "0  0.098698  0.363787  0.090794 -0.551600 -0.617801 -0.991390 -0.311169   \n",
       "1  0.085102 -0.255425 -0.166974  1.612727  1.065235  0.489095 -0.143772   \n",
       "2  0.247676 -1.514654  0.207643  0.624501  0.066084  0.717293 -0.165946   \n",
       "3  0.377436 -1.387024 -0.054952 -0.226487  0.178228  0.507757 -0.287924   \n",
       "4 -0.270533  0.817739  0.753074 -0.822843  0.538196  1.345852 -1.119670   \n",
       "\n",
       "        V15       V16       V17       V18       V19       V20       V21  \\\n",
       "0  1.468177 -0.470401  0.207971  0.025791  0.403993  0.251412 -0.018307   \n",
       "1  0.635558  0.463917 -0.114805 -0.183361 -0.145783 -0.069083 -0.225775   \n",
       "2  2.345865 -2.890083  1.109969 -0.121359 -2.261857  0.524980  0.247998   \n",
       "3 -0.631418 -1.059647 -0.684093  1.965775 -1.232622 -0.208038 -0.108300   \n",
       "4  0.175121 -0.451449 -0.237033 -0.038195  0.803487  0.408542 -0.009431   \n",
       "\n",
       "        V22       V23       V24       V25       V26       V27       V28  \\\n",
       "0  0.277838 -0.110474  0.066928  0.128539 -0.189115  0.133558 -0.021053   \n",
       "1 -0.638672  0.101288 -0.339846  0.167170  0.125895 -0.008983  0.014724   \n",
       "2  0.771679  0.909412 -0.689281 -0.327642 -0.139097 -0.055353 -0.059752   \n",
       "3  0.005274 -0.190321 -1.175575  0.647376 -0.221929  0.062723  0.061458   \n",
       "4  0.798278 -0.137458  0.141267 -0.206010  0.502292  0.219422  0.215153   \n",
       "\n",
       "   Amount  Class  \n",
       "0  149.62      0  \n",
       "1    2.69      0  \n",
       "2  378.66      0  \n",
       "3  123.50      0  \n",
       "4   69.99      0  "
      ]
     },
     "execution_count": 3,
     "metadata": {},
     "output_type": "execute_result"
    }
   ],
   "source": [
    "# Reading the dataset\n",
    "df = pd.read_csv('creditcard.csv')\n",
    "df.head()"
   ]
  },
  {
   "cell_type": "markdown",
   "metadata": {},
   "source": [
    "## 2. Understanding and visualising the data"
   ]
  },
  {
   "cell_type": "code",
   "execution_count": 4,
   "metadata": {
    "colab": {
     "base_uri": "https://localhost:8080/",
     "height": 34
    },
    "colab_type": "code",
    "id": "K5Z1nxMfu6VN",
    "outputId": "91d012c6-d13b-48ea-ae83-92506a650b1e"
   },
   "outputs": [
    {
     "data": {
      "text/plain": [
       "(284807, 31)"
      ]
     },
     "execution_count": 4,
     "metadata": {},
     "output_type": "execute_result"
    }
   ],
   "source": [
    "df.shape"
   ]
  },
  {
   "cell_type": "code",
   "execution_count": 5,
   "metadata": {
    "colab": {
     "base_uri": "https://localhost:8080/",
     "height": 663
    },
    "colab_type": "code",
    "id": "6YI-oSgUu6VS",
    "outputId": "ac209d80-97db-4983-86a6-ae02dd680f18"
   },
   "outputs": [
    {
     "name": "stdout",
     "output_type": "stream",
     "text": [
      "<class 'pandas.core.frame.DataFrame'>\n",
      "RangeIndex: 284807 entries, 0 to 284806\n",
      "Data columns (total 31 columns):\n",
      " #   Column  Non-Null Count   Dtype  \n",
      "---  ------  --------------   -----  \n",
      " 0   Time    284807 non-null  float64\n",
      " 1   V1      284807 non-null  float64\n",
      " 2   V2      284807 non-null  float64\n",
      " 3   V3      284807 non-null  float64\n",
      " 4   V4      284807 non-null  float64\n",
      " 5   V5      284807 non-null  float64\n",
      " 6   V6      284807 non-null  float64\n",
      " 7   V7      284807 non-null  float64\n",
      " 8   V8      284807 non-null  float64\n",
      " 9   V9      284807 non-null  float64\n",
      " 10  V10     284807 non-null  float64\n",
      " 11  V11     284807 non-null  float64\n",
      " 12  V12     284807 non-null  float64\n",
      " 13  V13     284807 non-null  float64\n",
      " 14  V14     284807 non-null  float64\n",
      " 15  V15     284807 non-null  float64\n",
      " 16  V16     284807 non-null  float64\n",
      " 17  V17     284807 non-null  float64\n",
      " 18  V18     284807 non-null  float64\n",
      " 19  V19     284807 non-null  float64\n",
      " 20  V20     284807 non-null  float64\n",
      " 21  V21     284807 non-null  float64\n",
      " 22  V22     284807 non-null  float64\n",
      " 23  V23     284807 non-null  float64\n",
      " 24  V24     284807 non-null  float64\n",
      " 25  V25     284807 non-null  float64\n",
      " 26  V26     284807 non-null  float64\n",
      " 27  V27     284807 non-null  float64\n",
      " 28  V28     284807 non-null  float64\n",
      " 29  Amount  284807 non-null  float64\n",
      " 30  Class   284807 non-null  int64  \n",
      "dtypes: float64(30), int64(1)\n",
      "memory usage: 67.4 MB\n"
     ]
    }
   ],
   "source": [
    "df.info()"
   ]
  },
  {
   "cell_type": "code",
   "execution_count": 6,
   "metadata": {
    "colab": {
     "base_uri": "https://localhost:8080/",
     "height": 317
    },
    "colab_type": "code",
    "id": "SxgZyGKvu6VX",
    "outputId": "a9cb967a-3236-45e2-8bf5-cc8fac0ec387"
   },
   "outputs": [
    {
     "data": {
      "text/html": [
       "<div>\n",
       "<style scoped>\n",
       "    .dataframe tbody tr th:only-of-type {\n",
       "        vertical-align: middle;\n",
       "    }\n",
       "\n",
       "    .dataframe tbody tr th {\n",
       "        vertical-align: top;\n",
       "    }\n",
       "\n",
       "    .dataframe thead th {\n",
       "        text-align: right;\n",
       "    }\n",
       "</style>\n",
       "<table border=\"1\" class=\"dataframe\">\n",
       "  <thead>\n",
       "    <tr style=\"text-align: right;\">\n",
       "      <th></th>\n",
       "      <th>Time</th>\n",
       "      <th>V1</th>\n",
       "      <th>V2</th>\n",
       "      <th>V3</th>\n",
       "      <th>V4</th>\n",
       "      <th>V5</th>\n",
       "      <th>V6</th>\n",
       "      <th>V7</th>\n",
       "      <th>V8</th>\n",
       "      <th>V9</th>\n",
       "      <th>V10</th>\n",
       "      <th>V11</th>\n",
       "      <th>V12</th>\n",
       "      <th>V13</th>\n",
       "      <th>V14</th>\n",
       "      <th>V15</th>\n",
       "      <th>V16</th>\n",
       "      <th>V17</th>\n",
       "      <th>V18</th>\n",
       "      <th>V19</th>\n",
       "      <th>V20</th>\n",
       "      <th>V21</th>\n",
       "      <th>V22</th>\n",
       "      <th>V23</th>\n",
       "      <th>V24</th>\n",
       "      <th>V25</th>\n",
       "      <th>V26</th>\n",
       "      <th>V27</th>\n",
       "      <th>V28</th>\n",
       "      <th>Amount</th>\n",
       "      <th>Class</th>\n",
       "    </tr>\n",
       "  </thead>\n",
       "  <tbody>\n",
       "    <tr>\n",
       "      <th>count</th>\n",
       "      <td>284807.000000</td>\n",
       "      <td>2.848070e+05</td>\n",
       "      <td>2.848070e+05</td>\n",
       "      <td>2.848070e+05</td>\n",
       "      <td>2.848070e+05</td>\n",
       "      <td>2.848070e+05</td>\n",
       "      <td>2.848070e+05</td>\n",
       "      <td>2.848070e+05</td>\n",
       "      <td>2.848070e+05</td>\n",
       "      <td>2.848070e+05</td>\n",
       "      <td>2.848070e+05</td>\n",
       "      <td>2.848070e+05</td>\n",
       "      <td>2.848070e+05</td>\n",
       "      <td>2.848070e+05</td>\n",
       "      <td>2.848070e+05</td>\n",
       "      <td>2.848070e+05</td>\n",
       "      <td>2.848070e+05</td>\n",
       "      <td>2.848070e+05</td>\n",
       "      <td>2.848070e+05</td>\n",
       "      <td>2.848070e+05</td>\n",
       "      <td>2.848070e+05</td>\n",
       "      <td>2.848070e+05</td>\n",
       "      <td>2.848070e+05</td>\n",
       "      <td>2.848070e+05</td>\n",
       "      <td>2.848070e+05</td>\n",
       "      <td>2.848070e+05</td>\n",
       "      <td>2.848070e+05</td>\n",
       "      <td>2.848070e+05</td>\n",
       "      <td>2.848070e+05</td>\n",
       "      <td>284807.000000</td>\n",
       "      <td>284807.000000</td>\n",
       "    </tr>\n",
       "    <tr>\n",
       "      <th>mean</th>\n",
       "      <td>94813.859575</td>\n",
       "      <td>1.168375e-15</td>\n",
       "      <td>3.416908e-16</td>\n",
       "      <td>-1.379537e-15</td>\n",
       "      <td>2.074095e-15</td>\n",
       "      <td>9.604066e-16</td>\n",
       "      <td>1.487313e-15</td>\n",
       "      <td>-5.556467e-16</td>\n",
       "      <td>1.213481e-16</td>\n",
       "      <td>-2.406331e-15</td>\n",
       "      <td>2.239053e-15</td>\n",
       "      <td>1.673327e-15</td>\n",
       "      <td>-1.247012e-15</td>\n",
       "      <td>8.190001e-16</td>\n",
       "      <td>1.207294e-15</td>\n",
       "      <td>4.887456e-15</td>\n",
       "      <td>1.437716e-15</td>\n",
       "      <td>-3.772171e-16</td>\n",
       "      <td>9.564149e-16</td>\n",
       "      <td>1.039917e-15</td>\n",
       "      <td>6.406204e-16</td>\n",
       "      <td>1.654067e-16</td>\n",
       "      <td>-3.568593e-16</td>\n",
       "      <td>2.578648e-16</td>\n",
       "      <td>4.473266e-15</td>\n",
       "      <td>5.340915e-16</td>\n",
       "      <td>1.683437e-15</td>\n",
       "      <td>-3.660091e-16</td>\n",
       "      <td>-1.227390e-16</td>\n",
       "      <td>88.349619</td>\n",
       "      <td>0.001727</td>\n",
       "    </tr>\n",
       "    <tr>\n",
       "      <th>std</th>\n",
       "      <td>47488.145955</td>\n",
       "      <td>1.958696e+00</td>\n",
       "      <td>1.651309e+00</td>\n",
       "      <td>1.516255e+00</td>\n",
       "      <td>1.415869e+00</td>\n",
       "      <td>1.380247e+00</td>\n",
       "      <td>1.332271e+00</td>\n",
       "      <td>1.237094e+00</td>\n",
       "      <td>1.194353e+00</td>\n",
       "      <td>1.098632e+00</td>\n",
       "      <td>1.088850e+00</td>\n",
       "      <td>1.020713e+00</td>\n",
       "      <td>9.992014e-01</td>\n",
       "      <td>9.952742e-01</td>\n",
       "      <td>9.585956e-01</td>\n",
       "      <td>9.153160e-01</td>\n",
       "      <td>8.762529e-01</td>\n",
       "      <td>8.493371e-01</td>\n",
       "      <td>8.381762e-01</td>\n",
       "      <td>8.140405e-01</td>\n",
       "      <td>7.709250e-01</td>\n",
       "      <td>7.345240e-01</td>\n",
       "      <td>7.257016e-01</td>\n",
       "      <td>6.244603e-01</td>\n",
       "      <td>6.056471e-01</td>\n",
       "      <td>5.212781e-01</td>\n",
       "      <td>4.822270e-01</td>\n",
       "      <td>4.036325e-01</td>\n",
       "      <td>3.300833e-01</td>\n",
       "      <td>250.120109</td>\n",
       "      <td>0.041527</td>\n",
       "    </tr>\n",
       "    <tr>\n",
       "      <th>min</th>\n",
       "      <td>0.000000</td>\n",
       "      <td>-5.640751e+01</td>\n",
       "      <td>-7.271573e+01</td>\n",
       "      <td>-4.832559e+01</td>\n",
       "      <td>-5.683171e+00</td>\n",
       "      <td>-1.137433e+02</td>\n",
       "      <td>-2.616051e+01</td>\n",
       "      <td>-4.355724e+01</td>\n",
       "      <td>-7.321672e+01</td>\n",
       "      <td>-1.343407e+01</td>\n",
       "      <td>-2.458826e+01</td>\n",
       "      <td>-4.797473e+00</td>\n",
       "      <td>-1.868371e+01</td>\n",
       "      <td>-5.791881e+00</td>\n",
       "      <td>-1.921433e+01</td>\n",
       "      <td>-4.498945e+00</td>\n",
       "      <td>-1.412985e+01</td>\n",
       "      <td>-2.516280e+01</td>\n",
       "      <td>-9.498746e+00</td>\n",
       "      <td>-7.213527e+00</td>\n",
       "      <td>-5.449772e+01</td>\n",
       "      <td>-3.483038e+01</td>\n",
       "      <td>-1.093314e+01</td>\n",
       "      <td>-4.480774e+01</td>\n",
       "      <td>-2.836627e+00</td>\n",
       "      <td>-1.029540e+01</td>\n",
       "      <td>-2.604551e+00</td>\n",
       "      <td>-2.256568e+01</td>\n",
       "      <td>-1.543008e+01</td>\n",
       "      <td>0.000000</td>\n",
       "      <td>0.000000</td>\n",
       "    </tr>\n",
       "    <tr>\n",
       "      <th>25%</th>\n",
       "      <td>54201.500000</td>\n",
       "      <td>-9.203734e-01</td>\n",
       "      <td>-5.985499e-01</td>\n",
       "      <td>-8.903648e-01</td>\n",
       "      <td>-8.486401e-01</td>\n",
       "      <td>-6.915971e-01</td>\n",
       "      <td>-7.682956e-01</td>\n",
       "      <td>-5.540759e-01</td>\n",
       "      <td>-2.086297e-01</td>\n",
       "      <td>-6.430976e-01</td>\n",
       "      <td>-5.354257e-01</td>\n",
       "      <td>-7.624942e-01</td>\n",
       "      <td>-4.055715e-01</td>\n",
       "      <td>-6.485393e-01</td>\n",
       "      <td>-4.255740e-01</td>\n",
       "      <td>-5.828843e-01</td>\n",
       "      <td>-4.680368e-01</td>\n",
       "      <td>-4.837483e-01</td>\n",
       "      <td>-4.988498e-01</td>\n",
       "      <td>-4.562989e-01</td>\n",
       "      <td>-2.117214e-01</td>\n",
       "      <td>-2.283949e-01</td>\n",
       "      <td>-5.423504e-01</td>\n",
       "      <td>-1.618463e-01</td>\n",
       "      <td>-3.545861e-01</td>\n",
       "      <td>-3.171451e-01</td>\n",
       "      <td>-3.269839e-01</td>\n",
       "      <td>-7.083953e-02</td>\n",
       "      <td>-5.295979e-02</td>\n",
       "      <td>5.600000</td>\n",
       "      <td>0.000000</td>\n",
       "    </tr>\n",
       "    <tr>\n",
       "      <th>50%</th>\n",
       "      <td>84692.000000</td>\n",
       "      <td>1.810880e-02</td>\n",
       "      <td>6.548556e-02</td>\n",
       "      <td>1.798463e-01</td>\n",
       "      <td>-1.984653e-02</td>\n",
       "      <td>-5.433583e-02</td>\n",
       "      <td>-2.741871e-01</td>\n",
       "      <td>4.010308e-02</td>\n",
       "      <td>2.235804e-02</td>\n",
       "      <td>-5.142873e-02</td>\n",
       "      <td>-9.291738e-02</td>\n",
       "      <td>-3.275735e-02</td>\n",
       "      <td>1.400326e-01</td>\n",
       "      <td>-1.356806e-02</td>\n",
       "      <td>5.060132e-02</td>\n",
       "      <td>4.807155e-02</td>\n",
       "      <td>6.641332e-02</td>\n",
       "      <td>-6.567575e-02</td>\n",
       "      <td>-3.636312e-03</td>\n",
       "      <td>3.734823e-03</td>\n",
       "      <td>-6.248109e-02</td>\n",
       "      <td>-2.945017e-02</td>\n",
       "      <td>6.781943e-03</td>\n",
       "      <td>-1.119293e-02</td>\n",
       "      <td>4.097606e-02</td>\n",
       "      <td>1.659350e-02</td>\n",
       "      <td>-5.213911e-02</td>\n",
       "      <td>1.342146e-03</td>\n",
       "      <td>1.124383e-02</td>\n",
       "      <td>22.000000</td>\n",
       "      <td>0.000000</td>\n",
       "    </tr>\n",
       "    <tr>\n",
       "      <th>75%</th>\n",
       "      <td>139320.500000</td>\n",
       "      <td>1.315642e+00</td>\n",
       "      <td>8.037239e-01</td>\n",
       "      <td>1.027196e+00</td>\n",
       "      <td>7.433413e-01</td>\n",
       "      <td>6.119264e-01</td>\n",
       "      <td>3.985649e-01</td>\n",
       "      <td>5.704361e-01</td>\n",
       "      <td>3.273459e-01</td>\n",
       "      <td>5.971390e-01</td>\n",
       "      <td>4.539234e-01</td>\n",
       "      <td>7.395934e-01</td>\n",
       "      <td>6.182380e-01</td>\n",
       "      <td>6.625050e-01</td>\n",
       "      <td>4.931498e-01</td>\n",
       "      <td>6.488208e-01</td>\n",
       "      <td>5.232963e-01</td>\n",
       "      <td>3.996750e-01</td>\n",
       "      <td>5.008067e-01</td>\n",
       "      <td>4.589494e-01</td>\n",
       "      <td>1.330408e-01</td>\n",
       "      <td>1.863772e-01</td>\n",
       "      <td>5.285536e-01</td>\n",
       "      <td>1.476421e-01</td>\n",
       "      <td>4.395266e-01</td>\n",
       "      <td>3.507156e-01</td>\n",
       "      <td>2.409522e-01</td>\n",
       "      <td>9.104512e-02</td>\n",
       "      <td>7.827995e-02</td>\n",
       "      <td>77.165000</td>\n",
       "      <td>0.000000</td>\n",
       "    </tr>\n",
       "    <tr>\n",
       "      <th>max</th>\n",
       "      <td>172792.000000</td>\n",
       "      <td>2.454930e+00</td>\n",
       "      <td>2.205773e+01</td>\n",
       "      <td>9.382558e+00</td>\n",
       "      <td>1.687534e+01</td>\n",
       "      <td>3.480167e+01</td>\n",
       "      <td>7.330163e+01</td>\n",
       "      <td>1.205895e+02</td>\n",
       "      <td>2.000721e+01</td>\n",
       "      <td>1.559499e+01</td>\n",
       "      <td>2.374514e+01</td>\n",
       "      <td>1.201891e+01</td>\n",
       "      <td>7.848392e+00</td>\n",
       "      <td>7.126883e+00</td>\n",
       "      <td>1.052677e+01</td>\n",
       "      <td>8.877742e+00</td>\n",
       "      <td>1.731511e+01</td>\n",
       "      <td>9.253526e+00</td>\n",
       "      <td>5.041069e+00</td>\n",
       "      <td>5.591971e+00</td>\n",
       "      <td>3.942090e+01</td>\n",
       "      <td>2.720284e+01</td>\n",
       "      <td>1.050309e+01</td>\n",
       "      <td>2.252841e+01</td>\n",
       "      <td>4.584549e+00</td>\n",
       "      <td>7.519589e+00</td>\n",
       "      <td>3.517346e+00</td>\n",
       "      <td>3.161220e+01</td>\n",
       "      <td>3.384781e+01</td>\n",
       "      <td>25691.160000</td>\n",
       "      <td>1.000000</td>\n",
       "    </tr>\n",
       "  </tbody>\n",
       "</table>\n",
       "</div>"
      ],
      "text/plain": [
       "                Time            V1            V2            V3            V4  \\\n",
       "count  284807.000000  2.848070e+05  2.848070e+05  2.848070e+05  2.848070e+05   \n",
       "mean    94813.859575  1.168375e-15  3.416908e-16 -1.379537e-15  2.074095e-15   \n",
       "std     47488.145955  1.958696e+00  1.651309e+00  1.516255e+00  1.415869e+00   \n",
       "min         0.000000 -5.640751e+01 -7.271573e+01 -4.832559e+01 -5.683171e+00   \n",
       "25%     54201.500000 -9.203734e-01 -5.985499e-01 -8.903648e-01 -8.486401e-01   \n",
       "50%     84692.000000  1.810880e-02  6.548556e-02  1.798463e-01 -1.984653e-02   \n",
       "75%    139320.500000  1.315642e+00  8.037239e-01  1.027196e+00  7.433413e-01   \n",
       "max    172792.000000  2.454930e+00  2.205773e+01  9.382558e+00  1.687534e+01   \n",
       "\n",
       "                 V5            V6            V7            V8            V9  \\\n",
       "count  2.848070e+05  2.848070e+05  2.848070e+05  2.848070e+05  2.848070e+05   \n",
       "mean   9.604066e-16  1.487313e-15 -5.556467e-16  1.213481e-16 -2.406331e-15   \n",
       "std    1.380247e+00  1.332271e+00  1.237094e+00  1.194353e+00  1.098632e+00   \n",
       "min   -1.137433e+02 -2.616051e+01 -4.355724e+01 -7.321672e+01 -1.343407e+01   \n",
       "25%   -6.915971e-01 -7.682956e-01 -5.540759e-01 -2.086297e-01 -6.430976e-01   \n",
       "50%   -5.433583e-02 -2.741871e-01  4.010308e-02  2.235804e-02 -5.142873e-02   \n",
       "75%    6.119264e-01  3.985649e-01  5.704361e-01  3.273459e-01  5.971390e-01   \n",
       "max    3.480167e+01  7.330163e+01  1.205895e+02  2.000721e+01  1.559499e+01   \n",
       "\n",
       "                V10           V11           V12           V13           V14  \\\n",
       "count  2.848070e+05  2.848070e+05  2.848070e+05  2.848070e+05  2.848070e+05   \n",
       "mean   2.239053e-15  1.673327e-15 -1.247012e-15  8.190001e-16  1.207294e-15   \n",
       "std    1.088850e+00  1.020713e+00  9.992014e-01  9.952742e-01  9.585956e-01   \n",
       "min   -2.458826e+01 -4.797473e+00 -1.868371e+01 -5.791881e+00 -1.921433e+01   \n",
       "25%   -5.354257e-01 -7.624942e-01 -4.055715e-01 -6.485393e-01 -4.255740e-01   \n",
       "50%   -9.291738e-02 -3.275735e-02  1.400326e-01 -1.356806e-02  5.060132e-02   \n",
       "75%    4.539234e-01  7.395934e-01  6.182380e-01  6.625050e-01  4.931498e-01   \n",
       "max    2.374514e+01  1.201891e+01  7.848392e+00  7.126883e+00  1.052677e+01   \n",
       "\n",
       "                V15           V16           V17           V18           V19  \\\n",
       "count  2.848070e+05  2.848070e+05  2.848070e+05  2.848070e+05  2.848070e+05   \n",
       "mean   4.887456e-15  1.437716e-15 -3.772171e-16  9.564149e-16  1.039917e-15   \n",
       "std    9.153160e-01  8.762529e-01  8.493371e-01  8.381762e-01  8.140405e-01   \n",
       "min   -4.498945e+00 -1.412985e+01 -2.516280e+01 -9.498746e+00 -7.213527e+00   \n",
       "25%   -5.828843e-01 -4.680368e-01 -4.837483e-01 -4.988498e-01 -4.562989e-01   \n",
       "50%    4.807155e-02  6.641332e-02 -6.567575e-02 -3.636312e-03  3.734823e-03   \n",
       "75%    6.488208e-01  5.232963e-01  3.996750e-01  5.008067e-01  4.589494e-01   \n",
       "max    8.877742e+00  1.731511e+01  9.253526e+00  5.041069e+00  5.591971e+00   \n",
       "\n",
       "                V20           V21           V22           V23           V24  \\\n",
       "count  2.848070e+05  2.848070e+05  2.848070e+05  2.848070e+05  2.848070e+05   \n",
       "mean   6.406204e-16  1.654067e-16 -3.568593e-16  2.578648e-16  4.473266e-15   \n",
       "std    7.709250e-01  7.345240e-01  7.257016e-01  6.244603e-01  6.056471e-01   \n",
       "min   -5.449772e+01 -3.483038e+01 -1.093314e+01 -4.480774e+01 -2.836627e+00   \n",
       "25%   -2.117214e-01 -2.283949e-01 -5.423504e-01 -1.618463e-01 -3.545861e-01   \n",
       "50%   -6.248109e-02 -2.945017e-02  6.781943e-03 -1.119293e-02  4.097606e-02   \n",
       "75%    1.330408e-01  1.863772e-01  5.285536e-01  1.476421e-01  4.395266e-01   \n",
       "max    3.942090e+01  2.720284e+01  1.050309e+01  2.252841e+01  4.584549e+00   \n",
       "\n",
       "                V25           V26           V27           V28         Amount  \\\n",
       "count  2.848070e+05  2.848070e+05  2.848070e+05  2.848070e+05  284807.000000   \n",
       "mean   5.340915e-16  1.683437e-15 -3.660091e-16 -1.227390e-16      88.349619   \n",
       "std    5.212781e-01  4.822270e-01  4.036325e-01  3.300833e-01     250.120109   \n",
       "min   -1.029540e+01 -2.604551e+00 -2.256568e+01 -1.543008e+01       0.000000   \n",
       "25%   -3.171451e-01 -3.269839e-01 -7.083953e-02 -5.295979e-02       5.600000   \n",
       "50%    1.659350e-02 -5.213911e-02  1.342146e-03  1.124383e-02      22.000000   \n",
       "75%    3.507156e-01  2.409522e-01  9.104512e-02  7.827995e-02      77.165000   \n",
       "max    7.519589e+00  3.517346e+00  3.161220e+01  3.384781e+01   25691.160000   \n",
       "\n",
       "               Class  \n",
       "count  284807.000000  \n",
       "mean        0.001727  \n",
       "std         0.041527  \n",
       "min         0.000000  \n",
       "25%         0.000000  \n",
       "50%         0.000000  \n",
       "75%         0.000000  \n",
       "max         1.000000  "
      ]
     },
     "execution_count": 6,
     "metadata": {},
     "output_type": "execute_result"
    }
   ],
   "source": [
    "df.describe()"
   ]
  },
  {
   "cell_type": "markdown",
   "metadata": {
    "colab_type": "text",
    "id": "q3iRER2cu6Vd"
   },
   "source": [
    "## 3. Data cleaning\n",
    "we handle missing values, check distribution and outliers. "
   ]
  },
  {
   "cell_type": "code",
   "execution_count": 7,
   "metadata": {
    "colab": {
     "base_uri": "https://localhost:8080/",
     "height": 1000
    },
    "colab_type": "code",
    "id": "v52fVzbVu6Vf",
    "outputId": "8fe4e0f6-5682-4784-c4dd-0168894a9942"
   },
   "outputs": [
    {
     "data": {
      "text/html": [
       "<div>\n",
       "<style scoped>\n",
       "    .dataframe tbody tr th:only-of-type {\n",
       "        vertical-align: middle;\n",
       "    }\n",
       "\n",
       "    .dataframe tbody tr th {\n",
       "        vertical-align: top;\n",
       "    }\n",
       "\n",
       "    .dataframe thead th {\n",
       "        text-align: right;\n",
       "    }\n",
       "</style>\n",
       "<table border=\"1\" class=\"dataframe\">\n",
       "  <thead>\n",
       "    <tr style=\"text-align: right;\">\n",
       "      <th></th>\n",
       "      <th>null</th>\n",
       "    </tr>\n",
       "  </thead>\n",
       "  <tbody>\n",
       "    <tr>\n",
       "      <th>Time</th>\n",
       "      <td>0.0</td>\n",
       "    </tr>\n",
       "    <tr>\n",
       "      <th>V16</th>\n",
       "      <td>0.0</td>\n",
       "    </tr>\n",
       "    <tr>\n",
       "      <th>Amount</th>\n",
       "      <td>0.0</td>\n",
       "    </tr>\n",
       "    <tr>\n",
       "      <th>V28</th>\n",
       "      <td>0.0</td>\n",
       "    </tr>\n",
       "    <tr>\n",
       "      <th>V27</th>\n",
       "      <td>0.0</td>\n",
       "    </tr>\n",
       "    <tr>\n",
       "      <th>V26</th>\n",
       "      <td>0.0</td>\n",
       "    </tr>\n",
       "    <tr>\n",
       "      <th>V25</th>\n",
       "      <td>0.0</td>\n",
       "    </tr>\n",
       "    <tr>\n",
       "      <th>V24</th>\n",
       "      <td>0.0</td>\n",
       "    </tr>\n",
       "    <tr>\n",
       "      <th>V23</th>\n",
       "      <td>0.0</td>\n",
       "    </tr>\n",
       "    <tr>\n",
       "      <th>V22</th>\n",
       "      <td>0.0</td>\n",
       "    </tr>\n",
       "    <tr>\n",
       "      <th>V21</th>\n",
       "      <td>0.0</td>\n",
       "    </tr>\n",
       "    <tr>\n",
       "      <th>V20</th>\n",
       "      <td>0.0</td>\n",
       "    </tr>\n",
       "    <tr>\n",
       "      <th>V19</th>\n",
       "      <td>0.0</td>\n",
       "    </tr>\n",
       "    <tr>\n",
       "      <th>V18</th>\n",
       "      <td>0.0</td>\n",
       "    </tr>\n",
       "    <tr>\n",
       "      <th>V17</th>\n",
       "      <td>0.0</td>\n",
       "    </tr>\n",
       "    <tr>\n",
       "      <th>V15</th>\n",
       "      <td>0.0</td>\n",
       "    </tr>\n",
       "    <tr>\n",
       "      <th>V1</th>\n",
       "      <td>0.0</td>\n",
       "    </tr>\n",
       "    <tr>\n",
       "      <th>V14</th>\n",
       "      <td>0.0</td>\n",
       "    </tr>\n",
       "    <tr>\n",
       "      <th>V13</th>\n",
       "      <td>0.0</td>\n",
       "    </tr>\n",
       "    <tr>\n",
       "      <th>V12</th>\n",
       "      <td>0.0</td>\n",
       "    </tr>\n",
       "    <tr>\n",
       "      <th>V11</th>\n",
       "      <td>0.0</td>\n",
       "    </tr>\n",
       "    <tr>\n",
       "      <th>V10</th>\n",
       "      <td>0.0</td>\n",
       "    </tr>\n",
       "    <tr>\n",
       "      <th>V9</th>\n",
       "      <td>0.0</td>\n",
       "    </tr>\n",
       "    <tr>\n",
       "      <th>V8</th>\n",
       "      <td>0.0</td>\n",
       "    </tr>\n",
       "    <tr>\n",
       "      <th>V7</th>\n",
       "      <td>0.0</td>\n",
       "    </tr>\n",
       "    <tr>\n",
       "      <th>V6</th>\n",
       "      <td>0.0</td>\n",
       "    </tr>\n",
       "    <tr>\n",
       "      <th>V5</th>\n",
       "      <td>0.0</td>\n",
       "    </tr>\n",
       "    <tr>\n",
       "      <th>V4</th>\n",
       "      <td>0.0</td>\n",
       "    </tr>\n",
       "    <tr>\n",
       "      <th>V3</th>\n",
       "      <td>0.0</td>\n",
       "    </tr>\n",
       "    <tr>\n",
       "      <th>V2</th>\n",
       "      <td>0.0</td>\n",
       "    </tr>\n",
       "    <tr>\n",
       "      <th>Class</th>\n",
       "      <td>0.0</td>\n",
       "    </tr>\n",
       "  </tbody>\n",
       "</table>\n",
       "</div>"
      ],
      "text/plain": [
       "        null\n",
       "Time     0.0\n",
       "V16      0.0\n",
       "Amount   0.0\n",
       "V28      0.0\n",
       "V27      0.0\n",
       "V26      0.0\n",
       "V25      0.0\n",
       "V24      0.0\n",
       "V23      0.0\n",
       "V22      0.0\n",
       "V21      0.0\n",
       "V20      0.0\n",
       "V19      0.0\n",
       "V18      0.0\n",
       "V17      0.0\n",
       "V15      0.0\n",
       "V1       0.0\n",
       "V14      0.0\n",
       "V13      0.0\n",
       "V12      0.0\n",
       "V11      0.0\n",
       "V10      0.0\n",
       "V9       0.0\n",
       "V8       0.0\n",
       "V7       0.0\n",
       "V6       0.0\n",
       "V5       0.0\n",
       "V4       0.0\n",
       "V3       0.0\n",
       "V2       0.0\n",
       "Class    0.0"
      ]
     },
     "execution_count": 7,
     "metadata": {},
     "output_type": "execute_result"
    }
   ],
   "source": [
    "# Cheking percent of missing values in the columns\n",
    "df_missing_columns = (round(((df.isnull().sum()/len(df.index))*100),2).to_frame('null')).sort_values('null', ascending=False)\n",
    "df_missing_columns"
   ]
  },
  {
   "cell_type": "markdown",
   "metadata": {
    "colab_type": "text",
    "id": "MW8Myiwau6WV"
   },
   "source": [
    "### from the results there are no missing values"
   ]
  },
  {
   "cell_type": "code",
   "execution_count": 8,
   "metadata": {},
   "outputs": [
    {
     "data": {
      "text/plain": [
       "0    284315\n",
       "1       492\n",
       "Name: Class, dtype: int64"
      ]
     },
     "execution_count": 8,
     "metadata": {},
     "output_type": "execute_result"
    }
   ],
   "source": [
    "#check for distribution of classes\n",
    "classes = df['Class'].value_counts()\n",
    "classes"
   ]
  },
  {
   "cell_type": "code",
   "execution_count": 11,
   "metadata": {
    "colab": {
     "base_uri": "https://localhost:8080/",
     "height": 0
    },
    "colab_type": "code",
    "id": "BqVR11F2u6Wk",
    "outputId": "357e600f-2050-4df6-88ff-be011c0fa92f"
   },
   "outputs": [
    {
     "data": {
      "text/plain": [
       "99.83"
      ]
     },
     "execution_count": 11,
     "metadata": {},
     "output_type": "execute_result"
    }
   ],
   "source": [
    "normal_share = round((classes[0]/df['Class'].count()*100),2)\n",
    "normal_share"
   ]
  },
  {
   "cell_type": "code",
   "execution_count": 12,
   "metadata": {
    "colab": {
     "base_uri": "https://localhost:8080/",
     "height": 0
    },
    "colab_type": "code",
    "id": "HJkpKiX_u6Wu",
    "outputId": "099b98e0-5ffa-4f40-dfa0-aab20fdd077a"
   },
   "outputs": [
    {
     "data": {
      "text/plain": [
       "0.17"
      ]
     },
     "execution_count": 12,
     "metadata": {},
     "output_type": "execute_result"
    }
   ],
   "source": [
    "fraud_share = round((classes[1]/df['Class'].count()*100),2)\n",
    "fraud_share"
   ]
  },
  {
   "cell_type": "markdown",
   "metadata": {
    "colab_type": "text",
    "id": "5gT9ENElu6XF"
   },
   "source": [
    "from this we get 0.17% frauds in the dataset"
   ]
  },
  {
   "cell_type": "code",
   "execution_count": 9,
   "metadata": {
    "colab": {
     "base_uri": "https://localhost:8080/",
     "height": 0
    },
    "colab_type": "code",
    "id": "-pOhCEWKu6XG",
    "outputId": "b3c33f8a-a121-48b7-9a34-804ca94a21bb"
   },
   "outputs": [
    {
     "data": {
      "image/png": "[encoded data removed]",
      "text/plain": [
       "<Figure size 432x288 with 1 Axes>"
      ]
     },
     "metadata": {
      "needs_background": "light"
     },
     "output_type": "display_data"
    }
   ],
   "source": [
    "#we do a plot visualization for fraudulent and no fraudulent\n",
    "sns.countplot(x='Class', data=df)\n",
    "plt.title('Number of fraudulent vs non-fraudulent transcations')\n",
    "plt.show()"
   ]
  },
  {
   "cell_type": "code",
   "execution_count": 14,
   "metadata": {
    "colab": {
     "base_uri": "https://localhost:8080/",
     "height": 0
    },
    "colab_type": "code",
    "id": "jrNL8UKau6XV",
    "outputId": "30fe88e9-9036-4b4c-e099-574bf45d2033"
   },
   "outputs": [
    {
     "data": {
      "image/png": "[encoded data removed]",
      "text/plain": [
       "<Figure size 432x288 with 1 Axes>"
      ]
     },
     "metadata": {
      "needs_background": "light"
     },
     "output_type": "display_data"
    }
   ],
   "source": [
    "# Bar plot visualization for the percentage of fraudulent / non-fraudulent transcations\n",
    "fraud_percentage = {'Class':['Non-Fraudulent', 'Fraudulent'], 'Percentage':[normal_share, fraud_share]} \n",
    "df_fraud_percentage = pd.DataFrame(fraud_percentage) \n",
    "sns.barplot(x='Class',y='Percentage', data=df_fraud_percentage)\n",
    "plt.title('Percentage of fraudulent vs non-fraudulent transcations')\n",
    "plt.show()"
   ]
  },
  {
   "cell_type": "code",
   "execution_count": 10,
   "metadata": {
    "colab": {},
    "colab_type": "code",
    "id": "7bFe7Q01u6Xp"
   },
   "outputs": [],
   "source": [
    "# Creating fraudulent dataframe\n",
    "data_fraud = df[df['Class'] == 1]\n",
    "# Creating non fraudulent dataframe\n",
    "data_non_fraud = df[df['Class'] == 0]"
   ]
  },
  {
   "cell_type": "code",
   "execution_count": 14,
   "metadata": {
    "colab": {},
    "colab_type": "code",
    "id": "Vq76AVf_u6Xw"
   },
   "outputs": [
    {
     "data": {
      "image/png": "[encoded data removed]",
      "text/plain": [
       "<Figure size 576x360 with 1 Axes>"
      ]
     },
     "metadata": {
      "needs_background": "light"
     },
     "output_type": "display_data"
    }
   ],
   "source": [
    "# Distribution plot\n",
    "plt.figure(figsize=(8,5))\n",
    "ax = sns.distplot(data_fraud['Time'],label='fraudulent',hist=False)\n",
    "ax = sns.distplot(data_non_fraud['Time'],label='non fraudulent',hist=False)\n",
    "ax.set(xlabel='Seconds elapsed between the last transaction and the first transaction')\n",
    "plt.show()"
   ]
  },
  {
   "cell_type": "markdown",
   "metadata": {
    "colab_type": "text",
    "id": "GAW4QoScu6X2"
   },
   "source": [
    "From the visualization there is no specific pattern for the fraudulent and non-fraudulent transctions with respect to Time.\n",
    "Hence, we can drop the `Time` column."
   ]
  },
  {
   "cell_type": "code",
   "execution_count": null,
   "metadata": {
    "colab": {},
    "colab_type": "code",
    "id": "XnT3BqXHu6X4"
   },
   "outputs": [],
   "source": [
    "# Dropping the Time column\n",
    "df.drop('Time', axis=1, inplace=True)"
   ]
  },
  {
   "cell_type": "code",
   "execution_count": 17,
   "metadata": {
    "colab": {},
    "colab_type": "code",
    "id": "uxhBWt42u6YC"
   },
   "outputs": [
    {
     "data": {
      "image/png": "[encoded data removed]",
      "text/plain": [
       "<Figure size 576x360 with 1 Axes>"
      ]
     },
     "metadata": {
      "needs_background": "light"
     },
     "output_type": "display_data"
    }
   ],
   "source": [
    "# Distribution plot WITHOUT TIME COLUMN\n",
    "plt.figure(figsize=(8,5))\n",
    "ax = sns.distplot(data_fraud['Amount'],label='fraudulent',hist=False)\n",
    "ax = sns.distplot(data_non_fraud['Time'],label='non fraudulent',hist=False)\n",
    "ax.set(xlabel='Transction Amount')\n",
    "plt.show()"
   ]
  },
  {
   "cell_type": "markdown",
   "metadata": {
    "colab_type": "text",
    "id": "hPisBCVFu6YI"
   },
   "source": [
    "From this we can see that the fraudulent transctions are mostly densed in the lower range of amount, whereas the non-fraudulent transctions are spreaded throughout low to high range of amount. "
   ]
  },
  {
   "cell_type": "markdown",
   "metadata": {
    "colab_type": "text",
    "id": "dQ7CcJj5u6YK"
   },
   "source": [
    "## Train-Test Split"
   ]
  },
  {
   "cell_type": "code",
   "execution_count": 19,
   "metadata": {
    "colab": {},
    "colab_type": "code",
    "id": "1t9AR81Mu6YL"
   },
   "outputs": [],
   "source": [
    "# Import library\n",
    "from sklearn.model_selection import train_test_split"
   ]
  },
  {
   "cell_type": "code",
   "execution_count": 20,
   "metadata": {
    "colab": {},
    "colab_type": "code",
    "id": "YTvEou3eu6YS"
   },
   "outputs": [],
   "source": [
    "# Putting feature variables into X\n",
    "X = df.drop(['Class'], axis=1)"
   ]
  },
  {
   "cell_type": "code",
   "execution_count": 21,
   "metadata": {
    "colab": {},
    "colab_type": "code",
    "id": "eBAoEhdKu6YY"
   },
   "outputs": [],
   "source": [
    "# Putting target variable to y\n",
    "y = df['Class']"
   ]
  },
  {
   "cell_type": "code",
   "execution_count": 22,
   "metadata": {
    "colab": {},
    "colab_type": "code",
    "id": "AT-JCXQCu6Yd"
   },
   "outputs": [],
   "source": [
    "# Splitting data into train and test set 80:20\n",
    "X_train, X_test, y_train, y_test = train_test_split(X, y, train_size=0.8, test_size=0.2, random_state=100)"
   ]
  },
  {
   "cell_type": "markdown",
   "metadata": {
    "colab_type": "text",
    "id": "ZjBOOoRRu6Yi"
   },
   "source": [
    "## Feature Scaling\n",
    "We need to scale only the `Amount` column as all other columns are already scaled by the PCA transformation."
   ]
  },
  {
   "cell_type": "code",
   "execution_count": 24,
   "metadata": {
    "colab": {},
    "colab_type": "code",
    "id": "ZzvfGrEau6Yj"
   },
   "outputs": [],
   "source": [
    "# Standardization method\n",
    "from sklearn.preprocessing import StandardScaler"
   ]
  },
  {
   "cell_type": "code",
   "execution_count": 25,
   "metadata": {
    "colab": {},
    "colab_type": "code",
    "id": "l6MgJu5Yu6Yq"
   },
   "outputs": [],
   "source": [
    "# Instantiate the Scaler\n",
    "scaler = StandardScaler()"
   ]
  },
  {
   "cell_type": "code",
   "execution_count": 26,
   "metadata": {
    "colab": {},
    "colab_type": "code",
    "id": "qF9gCgoLu6Yy"
   },
   "outputs": [],
   "source": [
    "# Fit the data into scaler and transform\n",
    "X_train['Amount'] = scaler.fit_transform(X_train[['Amount']])"
   ]
  },
  {
   "cell_type": "code",
   "execution_count": 27,
   "metadata": {
    "colab": {
     "base_uri": "https://localhost:8080/",
     "height": 0
    },
    "colab_type": "code",
    "id": "e3jOBWv5u6Y3",
    "outputId": "74202183-a70d-43fe-efd9-ed599dba2cbf"
   },
   "outputs": [
    {
     "data": {
      "text/html": [
       "<div>\n",
       "<style scoped>\n",
       "    .dataframe tbody tr th:only-of-type {\n",
       "        vertical-align: middle;\n",
       "    }\n",
       "\n",
       "    .dataframe tbody tr th {\n",
       "        vertical-align: top;\n",
       "    }\n",
       "\n",
       "    .dataframe thead th {\n",
       "        text-align: right;\n",
       "    }\n",
       "</style>\n",
       "<table border=\"1\" class=\"dataframe\">\n",
       "  <thead>\n",
       "    <tr style=\"text-align: right;\">\n",
       "      <th></th>\n",
       "      <th>V1</th>\n",
       "      <th>V2</th>\n",
       "      <th>V3</th>\n",
       "      <th>V4</th>\n",
       "      <th>V5</th>\n",
       "      <th>V6</th>\n",
       "      <th>V7</th>\n",
       "      <th>V8</th>\n",
       "      <th>V9</th>\n",
       "      <th>V10</th>\n",
       "      <th>V11</th>\n",
       "      <th>V12</th>\n",
       "      <th>V13</th>\n",
       "      <th>V14</th>\n",
       "      <th>V15</th>\n",
       "      <th>V16</th>\n",
       "      <th>V17</th>\n",
       "      <th>V18</th>\n",
       "      <th>V19</th>\n",
       "      <th>V20</th>\n",
       "      <th>V21</th>\n",
       "      <th>V22</th>\n",
       "      <th>V23</th>\n",
       "      <th>V24</th>\n",
       "      <th>V25</th>\n",
       "      <th>V26</th>\n",
       "      <th>V27</th>\n",
       "      <th>V28</th>\n",
       "      <th>Amount</th>\n",
       "    </tr>\n",
       "  </thead>\n",
       "  <tbody>\n",
       "    <tr>\n",
       "      <th>201788</th>\n",
       "      <td>2.023734</td>\n",
       "      <td>-0.429219</td>\n",
       "      <td>-0.691061</td>\n",
       "      <td>-0.201461</td>\n",
       "      <td>-0.162486</td>\n",
       "      <td>0.283718</td>\n",
       "      <td>-0.674694</td>\n",
       "      <td>0.192230</td>\n",
       "      <td>1.124319</td>\n",
       "      <td>-0.037763</td>\n",
       "      <td>0.308648</td>\n",
       "      <td>0.875063</td>\n",
       "      <td>-0.009562</td>\n",
       "      <td>0.116038</td>\n",
       "      <td>0.086537</td>\n",
       "      <td>0.628337</td>\n",
       "      <td>-0.997868</td>\n",
       "      <td>0.482547</td>\n",
       "      <td>0.576077</td>\n",
       "      <td>-0.171390</td>\n",
       "      <td>-0.195207</td>\n",
       "      <td>-0.477813</td>\n",
       "      <td>0.340513</td>\n",
       "      <td>0.059174</td>\n",
       "      <td>-0.431015</td>\n",
       "      <td>-0.297028</td>\n",
       "      <td>-0.000063</td>\n",
       "      <td>-0.046947</td>\n",
       "      <td>-0.345273</td>\n",
       "    </tr>\n",
       "    <tr>\n",
       "      <th>179369</th>\n",
       "      <td>-0.145286</td>\n",
       "      <td>0.736735</td>\n",
       "      <td>0.543226</td>\n",
       "      <td>0.892662</td>\n",
       "      <td>0.350846</td>\n",
       "      <td>0.089253</td>\n",
       "      <td>0.626708</td>\n",
       "      <td>-0.049137</td>\n",
       "      <td>-0.732566</td>\n",
       "      <td>0.297692</td>\n",
       "      <td>0.519027</td>\n",
       "      <td>0.041275</td>\n",
       "      <td>-0.690783</td>\n",
       "      <td>0.647121</td>\n",
       "      <td>0.526333</td>\n",
       "      <td>-1.098558</td>\n",
       "      <td>0.511739</td>\n",
       "      <td>0.243984</td>\n",
       "      <td>3.349611</td>\n",
       "      <td>0.206709</td>\n",
       "      <td>-0.124288</td>\n",
       "      <td>-0.263560</td>\n",
       "      <td>-0.110568</td>\n",
       "      <td>-0.434224</td>\n",
       "      <td>-0.509076</td>\n",
       "      <td>0.719784</td>\n",
       "      <td>-0.006357</td>\n",
       "      <td>0.146053</td>\n",
       "      <td>-0.206439</td>\n",
       "    </tr>\n",
       "    <tr>\n",
       "      <th>73138</th>\n",
       "      <td>-3.015846</td>\n",
       "      <td>-1.920606</td>\n",
       "      <td>1.229574</td>\n",
       "      <td>0.721577</td>\n",
       "      <td>1.089918</td>\n",
       "      <td>-0.195727</td>\n",
       "      <td>-0.462586</td>\n",
       "      <td>0.919341</td>\n",
       "      <td>-0.612193</td>\n",
       "      <td>-0.966197</td>\n",
       "      <td>1.106534</td>\n",
       "      <td>1.026421</td>\n",
       "      <td>-0.474229</td>\n",
       "      <td>0.641488</td>\n",
       "      <td>-0.430684</td>\n",
       "      <td>-0.631257</td>\n",
       "      <td>0.634633</td>\n",
       "      <td>-0.718062</td>\n",
       "      <td>-0.039929</td>\n",
       "      <td>0.842838</td>\n",
       "      <td>0.274911</td>\n",
       "      <td>-0.319550</td>\n",
       "      <td>0.212891</td>\n",
       "      <td>-0.268792</td>\n",
       "      <td>0.241190</td>\n",
       "      <td>0.318445</td>\n",
       "      <td>-0.100726</td>\n",
       "      <td>-0.365257</td>\n",
       "      <td>0.358043</td>\n",
       "    </tr>\n",
       "    <tr>\n",
       "      <th>208679</th>\n",
       "      <td>1.851980</td>\n",
       "      <td>-1.007445</td>\n",
       "      <td>-1.499762</td>\n",
       "      <td>-0.220770</td>\n",
       "      <td>-0.568376</td>\n",
       "      <td>-1.232633</td>\n",
       "      <td>0.248573</td>\n",
       "      <td>-0.539483</td>\n",
       "      <td>-0.813368</td>\n",
       "      <td>0.785431</td>\n",
       "      <td>-0.784316</td>\n",
       "      <td>0.673626</td>\n",
       "      <td>1.428269</td>\n",
       "      <td>0.043937</td>\n",
       "      <td>-0.309507</td>\n",
       "      <td>-1.805728</td>\n",
       "      <td>-0.012118</td>\n",
       "      <td>0.377096</td>\n",
       "      <td>-0.658353</td>\n",
       "      <td>-0.196551</td>\n",
       "      <td>-0.406722</td>\n",
       "      <td>-0.899081</td>\n",
       "      <td>0.137370</td>\n",
       "      <td>0.075894</td>\n",
       "      <td>-0.244027</td>\n",
       "      <td>0.455618</td>\n",
       "      <td>-0.094066</td>\n",
       "      <td>-0.031488</td>\n",
       "      <td>0.362400</td>\n",
       "    </tr>\n",
       "    <tr>\n",
       "      <th>206534</th>\n",
       "      <td>2.237844</td>\n",
       "      <td>-0.551513</td>\n",
       "      <td>-1.426515</td>\n",
       "      <td>-0.924369</td>\n",
       "      <td>-0.401734</td>\n",
       "      <td>-1.438232</td>\n",
       "      <td>-0.119942</td>\n",
       "      <td>-0.449263</td>\n",
       "      <td>-0.717258</td>\n",
       "      <td>0.851668</td>\n",
       "      <td>-0.497634</td>\n",
       "      <td>-0.445482</td>\n",
       "      <td>0.324575</td>\n",
       "      <td>0.125543</td>\n",
       "      <td>0.266588</td>\n",
       "      <td>0.802640</td>\n",
       "      <td>0.225312</td>\n",
       "      <td>-1.865494</td>\n",
       "      <td>0.621879</td>\n",
       "      <td>-0.045417</td>\n",
       "      <td>0.050447</td>\n",
       "      <td>0.125601</td>\n",
       "      <td>0.215531</td>\n",
       "      <td>-0.080485</td>\n",
       "      <td>-0.063975</td>\n",
       "      <td>-0.307176</td>\n",
       "      <td>-0.042838</td>\n",
       "      <td>-0.063872</td>\n",
       "      <td>-0.316109</td>\n",
       "    </tr>\n",
       "  </tbody>\n",
       "</table>\n",
       "</div>"
      ],
      "text/plain": [
       "              V1        V2        V3        V4        V5        V6        V7  \\\n",
       "201788  2.023734 -0.429219 -0.691061 -0.201461 -0.162486  0.283718 -0.674694   \n",
       "179369 -0.145286  0.736735  0.543226  0.892662  0.350846  0.089253  0.626708   \n",
       "73138  -3.015846 -1.920606  1.229574  0.721577  1.089918 -0.195727 -0.462586   \n",
       "208679  1.851980 -1.007445 -1.499762 -0.220770 -0.568376 -1.232633  0.248573   \n",
       "206534  2.237844 -0.551513 -1.426515 -0.924369 -0.401734 -1.438232 -0.119942   \n",
       "\n",
       "              V8        V9       V10       V11       V12       V13       V14  \\\n",
       "201788  0.192230  1.124319 -0.037763  0.308648  0.875063 -0.009562  0.116038   \n",
       "179369 -0.049137 -0.732566  0.297692  0.519027  0.041275 -0.690783  0.647121   \n",
       "73138   0.919341 -0.612193 -0.966197  1.106534  1.026421 -0.474229  0.641488   \n",
       "208679 -0.539483 -0.813368  0.785431 -0.784316  0.673626  1.428269  0.043937   \n",
       "206534 -0.449263 -0.717258  0.851668 -0.497634 -0.445482  0.324575  0.125543   \n",
       "\n",
       "             V15       V16       V17       V18       V19       V20       V21  \\\n",
       "201788  0.086537  0.628337 -0.997868  0.482547  0.576077 -0.171390 -0.195207   \n",
       "179369  0.526333 -1.098558  0.511739  0.243984  3.349611  0.206709 -0.124288   \n",
       "73138  -0.430684 -0.631257  0.634633 -0.718062 -0.039929  0.842838  0.274911   \n",
       "208679 -0.309507 -1.805728 -0.012118  0.377096 -0.658353 -0.196551 -0.406722   \n",
       "206534  0.266588  0.802640  0.225312 -1.865494  0.621879 -0.045417  0.050447   \n",
       "\n",
       "             V22       V23       V24       V25       V26       V27       V28  \\\n",
       "201788 -0.477813  0.340513  0.059174 -0.431015 -0.297028 -0.000063 -0.046947   \n",
       "179369 -0.263560 -0.110568 -0.434224 -0.509076  0.719784 -0.006357  0.146053   \n",
       "73138  -0.319550  0.212891 -0.268792  0.241190  0.318445 -0.100726 -0.365257   \n",
       "208679 -0.899081  0.137370  0.075894 -0.244027  0.455618 -0.094066 -0.031488   \n",
       "206534  0.125601  0.215531 -0.080485 -0.063975 -0.307176 -0.042838 -0.063872   \n",
       "\n",
       "          Amount  \n",
       "201788 -0.345273  \n",
       "179369 -0.206439  \n",
       "73138   0.358043  \n",
       "208679  0.362400  \n",
       "206534 -0.316109  "
      ]
     },
     "execution_count": 27,
     "metadata": {},
     "output_type": "execute_result"
    }
   ],
   "source": [
    "X_train.head()"
   ]
  },
  {
   "cell_type": "code",
   "execution_count": 28,
   "metadata": {
    "colab": {
     "base_uri": "https://localhost:8080/",
     "height": 0
    },
    "colab_type": "code",
    "id": "7BNLTjaiu6Y9",
    "outputId": "a99bb681-c9e5-4ae8-c196-d6b93bfb6b3a"
   },
   "outputs": [
    {
     "data": {
      "text/html": [
       "<div>\n",
       "<style scoped>\n",
       "    .dataframe tbody tr th:only-of-type {\n",
       "        vertical-align: middle;\n",
       "    }\n",
       "\n",
       "    .dataframe tbody tr th {\n",
       "        vertical-align: top;\n",
       "    }\n",
       "\n",
       "    .dataframe thead th {\n",
       "        text-align: right;\n",
       "    }\n",
       "</style>\n",
       "<table border=\"1\" class=\"dataframe\">\n",
       "  <thead>\n",
       "    <tr style=\"text-align: right;\">\n",
       "      <th></th>\n",
       "      <th>V1</th>\n",
       "      <th>V2</th>\n",
       "      <th>V3</th>\n",
       "      <th>V4</th>\n",
       "      <th>V5</th>\n",
       "      <th>V6</th>\n",
       "      <th>V7</th>\n",
       "      <th>V8</th>\n",
       "      <th>V9</th>\n",
       "      <th>V10</th>\n",
       "      <th>V11</th>\n",
       "      <th>V12</th>\n",
       "      <th>V13</th>\n",
       "      <th>V14</th>\n",
       "      <th>V15</th>\n",
       "      <th>V16</th>\n",
       "      <th>V17</th>\n",
       "      <th>V18</th>\n",
       "      <th>V19</th>\n",
       "      <th>V20</th>\n",
       "      <th>V21</th>\n",
       "      <th>V22</th>\n",
       "      <th>V23</th>\n",
       "      <th>V24</th>\n",
       "      <th>V25</th>\n",
       "      <th>V26</th>\n",
       "      <th>V27</th>\n",
       "      <th>V28</th>\n",
       "      <th>Amount</th>\n",
       "    </tr>\n",
       "  </thead>\n",
       "  <tbody>\n",
       "    <tr>\n",
       "      <th>49089</th>\n",
       "      <td>1.229452</td>\n",
       "      <td>-0.235478</td>\n",
       "      <td>-0.627166</td>\n",
       "      <td>0.419877</td>\n",
       "      <td>1.797014</td>\n",
       "      <td>4.069574</td>\n",
       "      <td>-0.896223</td>\n",
       "      <td>1.036103</td>\n",
       "      <td>0.745991</td>\n",
       "      <td>-0.147304</td>\n",
       "      <td>-0.850459</td>\n",
       "      <td>0.397845</td>\n",
       "      <td>-0.259849</td>\n",
       "      <td>-0.277065</td>\n",
       "      <td>-0.766810</td>\n",
       "      <td>-0.200946</td>\n",
       "      <td>-0.338122</td>\n",
       "      <td>0.006032</td>\n",
       "      <td>0.477431</td>\n",
       "      <td>-0.057922</td>\n",
       "      <td>-0.170060</td>\n",
       "      <td>-0.288750</td>\n",
       "      <td>-0.130270</td>\n",
       "      <td>1.025935</td>\n",
       "      <td>0.847990</td>\n",
       "      <td>-0.271476</td>\n",
       "      <td>0.060052</td>\n",
       "      <td>0.018104</td>\n",
       "      <td>-0.340485</td>\n",
       "    </tr>\n",
       "    <tr>\n",
       "      <th>154704</th>\n",
       "      <td>2.016893</td>\n",
       "      <td>-0.088751</td>\n",
       "      <td>-2.989257</td>\n",
       "      <td>-0.142575</td>\n",
       "      <td>2.675427</td>\n",
       "      <td>3.332289</td>\n",
       "      <td>-0.652336</td>\n",
       "      <td>0.752811</td>\n",
       "      <td>1.962566</td>\n",
       "      <td>-1.025024</td>\n",
       "      <td>1.126976</td>\n",
       "      <td>-2.418093</td>\n",
       "      <td>1.250341</td>\n",
       "      <td>-0.056209</td>\n",
       "      <td>-0.736695</td>\n",
       "      <td>0.014783</td>\n",
       "      <td>1.890249</td>\n",
       "      <td>0.333755</td>\n",
       "      <td>-0.450398</td>\n",
       "      <td>-0.147619</td>\n",
       "      <td>-0.184153</td>\n",
       "      <td>-0.089661</td>\n",
       "      <td>0.087188</td>\n",
       "      <td>0.570679</td>\n",
       "      <td>0.101899</td>\n",
       "      <td>0.620842</td>\n",
       "      <td>-0.048958</td>\n",
       "      <td>-0.042831</td>\n",
       "      <td>-0.320859</td>\n",
       "    </tr>\n",
       "    <tr>\n",
       "      <th>67247</th>\n",
       "      <td>0.535093</td>\n",
       "      <td>-1.469185</td>\n",
       "      <td>0.868279</td>\n",
       "      <td>0.385462</td>\n",
       "      <td>-1.439135</td>\n",
       "      <td>0.368118</td>\n",
       "      <td>-0.499370</td>\n",
       "      <td>0.303698</td>\n",
       "      <td>1.042073</td>\n",
       "      <td>-0.437209</td>\n",
       "      <td>1.145725</td>\n",
       "      <td>0.907573</td>\n",
       "      <td>-1.095634</td>\n",
       "      <td>-0.055080</td>\n",
       "      <td>-0.621880</td>\n",
       "      <td>-0.191066</td>\n",
       "      <td>0.311988</td>\n",
       "      <td>-0.478635</td>\n",
       "      <td>0.231159</td>\n",
       "      <td>0.437685</td>\n",
       "      <td>0.028010</td>\n",
       "      <td>-0.384708</td>\n",
       "      <td>-0.128376</td>\n",
       "      <td>0.286638</td>\n",
       "      <td>-0.136700</td>\n",
       "      <td>0.913904</td>\n",
       "      <td>-0.083364</td>\n",
       "      <td>0.052485</td>\n",
       "      <td>0.853442</td>\n",
       "    </tr>\n",
       "    <tr>\n",
       "      <th>251657</th>\n",
       "      <td>2.128486</td>\n",
       "      <td>-0.117215</td>\n",
       "      <td>-1.513910</td>\n",
       "      <td>0.166456</td>\n",
       "      <td>0.359070</td>\n",
       "      <td>-0.540072</td>\n",
       "      <td>0.116023</td>\n",
       "      <td>-0.216140</td>\n",
       "      <td>0.680314</td>\n",
       "      <td>0.079977</td>\n",
       "      <td>-1.705327</td>\n",
       "      <td>-0.127579</td>\n",
       "      <td>-0.207945</td>\n",
       "      <td>0.307878</td>\n",
       "      <td>0.213491</td>\n",
       "      <td>0.163032</td>\n",
       "      <td>-0.587029</td>\n",
       "      <td>-0.561292</td>\n",
       "      <td>0.472667</td>\n",
       "      <td>-0.227278</td>\n",
       "      <td>-0.357993</td>\n",
       "      <td>-0.905085</td>\n",
       "      <td>0.223474</td>\n",
       "      <td>-1.075605</td>\n",
       "      <td>-0.188519</td>\n",
       "      <td>0.267672</td>\n",
       "      <td>-0.071733</td>\n",
       "      <td>-0.072238</td>\n",
       "      <td>-0.344410</td>\n",
       "    </tr>\n",
       "    <tr>\n",
       "      <th>201903</th>\n",
       "      <td>0.558593</td>\n",
       "      <td>1.587908</td>\n",
       "      <td>-2.368767</td>\n",
       "      <td>5.124413</td>\n",
       "      <td>2.171788</td>\n",
       "      <td>-0.500419</td>\n",
       "      <td>1.059829</td>\n",
       "      <td>-0.254233</td>\n",
       "      <td>-1.959060</td>\n",
       "      <td>0.948915</td>\n",
       "      <td>-0.288169</td>\n",
       "      <td>-1.007647</td>\n",
       "      <td>0.470316</td>\n",
       "      <td>-2.771902</td>\n",
       "      <td>0.221958</td>\n",
       "      <td>0.354333</td>\n",
       "      <td>2.603189</td>\n",
       "      <td>1.092576</td>\n",
       "      <td>0.668084</td>\n",
       "      <td>0.249457</td>\n",
       "      <td>-0.035049</td>\n",
       "      <td>0.271455</td>\n",
       "      <td>0.381606</td>\n",
       "      <td>0.332001</td>\n",
       "      <td>-0.334757</td>\n",
       "      <td>0.448890</td>\n",
       "      <td>0.168585</td>\n",
       "      <td>0.004955</td>\n",
       "      <td>-0.229480</td>\n",
       "    </tr>\n",
       "  </tbody>\n",
       "</table>\n",
       "</div>"
      ],
      "text/plain": [
       "              V1        V2        V3        V4        V5        V6        V7  \\\n",
       "49089   1.229452 -0.235478 -0.627166  0.419877  1.797014  4.069574 -0.896223   \n",
       "154704  2.016893 -0.088751 -2.989257 -0.142575  2.675427  3.332289 -0.652336   \n",
       "67247   0.535093 -1.469185  0.868279  0.385462 -1.439135  0.368118 -0.499370   \n",
       "251657  2.128486 -0.117215 -1.513910  0.166456  0.359070 -0.540072  0.116023   \n",
       "201903  0.558593  1.587908 -2.368767  5.124413  2.171788 -0.500419  1.059829   \n",
       "\n",
       "              V8        V9       V10       V11       V12       V13       V14  \\\n",
       "49089   1.036103  0.745991 -0.147304 -0.850459  0.397845 -0.259849 -0.277065   \n",
       "154704  0.752811  1.962566 -1.025024  1.126976 -2.418093  1.250341 -0.056209   \n",
       "67247   0.303698  1.042073 -0.437209  1.145725  0.907573 -1.095634 -0.055080   \n",
       "251657 -0.216140  0.680314  0.079977 -1.705327 -0.127579 -0.207945  0.307878   \n",
       "201903 -0.254233 -1.959060  0.948915 -0.288169 -1.007647  0.470316 -2.771902   \n",
       "\n",
       "             V15       V16       V17       V18       V19       V20       V21  \\\n",
       "49089  -0.766810 -0.200946 -0.338122  0.006032  0.477431 -0.057922 -0.170060   \n",
       "154704 -0.736695  0.014783  1.890249  0.333755 -0.450398 -0.147619 -0.184153   \n",
       "67247  -0.621880 -0.191066  0.311988 -0.478635  0.231159  0.437685  0.028010   \n",
       "251657  0.213491  0.163032 -0.587029 -0.561292  0.472667 -0.227278 -0.357993   \n",
       "201903  0.221958  0.354333  2.603189  1.092576  0.668084  0.249457 -0.035049   \n",
       "\n",
       "             V22       V23       V24       V25       V26       V27       V28  \\\n",
       "49089  -0.288750 -0.130270  1.025935  0.847990 -0.271476  0.060052  0.018104   \n",
       "154704 -0.089661  0.087188  0.570679  0.101899  0.620842 -0.048958 -0.042831   \n",
       "67247  -0.384708 -0.128376  0.286638 -0.136700  0.913904 -0.083364  0.052485   \n",
       "251657 -0.905085  0.223474 -1.075605 -0.188519  0.267672 -0.071733 -0.072238   \n",
       "201903  0.271455  0.381606  0.332001 -0.334757  0.448890  0.168585  0.004955   \n",
       "\n",
       "          Amount  \n",
       "49089  -0.340485  \n",
       "154704 -0.320859  \n",
       "67247   0.853442  \n",
       "251657 -0.344410  \n",
       "201903 -0.229480  "
      ]
     },
     "execution_count": 28,
     "metadata": {},
     "output_type": "execute_result"
    }
   ],
   "source": [
    "# Transform the test set\n",
    "X_test['Amount'] = scaler.transform(X_test[['Amount']])\n",
    "X_test.head()"
   ]
  },
  {
   "cell_type": "code",
   "execution_count": 29,
   "metadata": {
    "colab": {
     "base_uri": "https://localhost:8080/",
     "height": 0
    },
    "colab_type": "code",
    "id": "0lEY2C-gu6ZD",
    "outputId": "301520f8-1710-4b60-a9a0-2541be68628e"
   },
   "outputs": [
    {
     "data": {
      "text/plain": [
       "Index(['V1', 'V2', 'V3', 'V4', 'V5', 'V6', 'V7', 'V8', 'V9', 'V10', 'V11',\n",
       "       'V12', 'V13', 'V14', 'V15', 'V16', 'V17', 'V18', 'V19', 'V20', 'V21',\n",
       "       'V22', 'V23', 'V24', 'V25', 'V26', 'V27', 'V28', 'Amount'],\n",
       "      dtype='object')"
      ]
     },
     "execution_count": 29,
     "metadata": {},
     "output_type": "execute_result"
    }
   ],
   "source": [
    "## Checking the Skewness\n",
    "# Listing the columns\n",
    "cols = X_train.columns\n",
    "cols"
   ]
  },
  {
   "cell_type": "code",
   "execution_count": 30,
   "metadata": {
    "colab": {
     "base_uri": "https://localhost:8080/",
     "height": 0
    },
    "colab_type": "code",
    "id": "IL_fIbyVu6ZM",
    "outputId": "f9d0f885-217b-4790-e08e-2dfe933dffa6"
   },
   "outputs": [
    {
     "data": {
      "image/png": "[encoded data removed]",
      "text/plain": [
       "<Figure size 1224x2016 with 29 Axes>"
      ]
     },
     "metadata": {
      "needs_background": "light"
     },
     "output_type": "display_data"
    }
   ],
   "source": [
    "# Plotting the distribution of the variables (skewness) of all the columns\n",
    "k=0\n",
    "plt.figure(figsize=(17,28))\n",
    "for col in cols :    \n",
    "    k=k+1\n",
    "    plt.subplot(6, 5,k)    \n",
    "    sns.distplot(X_train[col])\n",
    "    plt.title(col+' '+str(X_train[col].skew()))"
   ]
  },
  {
   "cell_type": "markdown",
   "metadata": {
    "colab_type": "text",
    "id": "_2qcjquMu6ZU"
   },
   "source": [
    "We see that there are many variables, which are heavily skewed. We will mitigate the skewness only for those variables for bringing them into normal distribution."
   ]
  },
  {
   "cell_type": "markdown",
   "metadata": {
    "colab_type": "text",
    "id": "eN3HKn_vu6Z8"
   },
   "source": [
    "# 4 developing the model  "
   ]
  },
  {
   "cell_type": "markdown",
   "metadata": {
    "colab_type": "text",
    "id": "p1ZC72gpu6Z-"
   },
   "source": [
    "### Logistic regression"
   ]
  },
  {
   "cell_type": "code",
   "execution_count": 36,
   "metadata": {
    "colab": {},
    "colab_type": "code",
    "id": "JkswPEwBu6Z_"
   },
   "outputs": [],
   "source": [
    "# Importing scikit logistic regression module\n",
    "from sklearn.linear_model import LogisticRegression"
   ]
  },
  {
   "cell_type": "code",
   "execution_count": 37,
   "metadata": {
    "colab": {},
    "colab_type": "code",
    "id": "1R-pakFmu6aE"
   },
   "outputs": [],
   "source": [
    "# Impoting metrics\n",
    "from sklearn import metrics\n",
    "from sklearn.metrics import confusion_matrix\n",
    "from sklearn.metrics import f1_score\n",
    "from sklearn.metrics import classification_report"
   ]
  },
  {
   "cell_type": "code",
   "execution_count": 38,
   "metadata": {
    "colab": {},
    "colab_type": "code",
    "id": "juSQ7kHxu6aK"
   },
   "outputs": [],
   "source": [
    "# Importing libraries for cross validation\n",
    "from sklearn.model_selection import KFold\n",
    "from sklearn.model_selection import cross_val_score\n",
    "from sklearn.model_selection import GridSearchCV"
   ]
  },
  {
   "cell_type": "code",
   "execution_count": 61,
   "metadata": {
    "colab": {
     "base_uri": "https://localhost:8080/",
     "height": 306
    },
    "colab_type": "code",
    "id": "yTvEVU6Uu6aQ",
    "outputId": "f6acd2b0-b324-47a4-b31f-f5a1c2d279aa"
   },
   "outputs": [
    {
     "name": "stdout",
     "output_type": "stream",
     "text": [
      "Fitting 5 folds for each of 6 candidates, totalling 30 fits\n"
     ]
    },
    {
     "data": {
      "text/html": [
       "<style>#sk-container-id-2 {color: black;background-color: white;}#sk-container-id-2 pre{padding: 0;}#sk-container-id-2 div.sk-toggleable {background-color: white;}#sk-container-id-2 label.sk-toggleable__label {cursor: pointer;display: block;width: 100%;margin-bottom: 0;padding: 0.3em;box-sizing: border-box;text-align: center;}#sk-container-id-2 label.sk-toggleable__label-arrow:before {content: \"▸\";float: left;margin-right: 0.25em;color: #696969;}#sk-container-id-2 label.sk-toggleable__label-arrow:hover:before {color: black;}#sk-container-id-2 div.sk-estimator:hover label.sk-toggleable__label-arrow:before {color: black;}#sk-container-id-2 div.sk-toggleable__content {max-height: 0;max-width: 0;overflow: hidden;text-align: left;background-color: #f0f8ff;}#sk-container-id-2 div.sk-toggleable__content pre {margin: 0.2em;color: black;border-radius: 0.25em;background-color: #f0f8ff;}#sk-container-id-2 input.sk-toggleable__control:checked~div.sk-toggleable__content {max-height: 200px;max-width: 100%;overflow: auto;}#sk-container-id-2 input.sk-toggleable__control:checked~label.sk-toggleable__label-arrow:before {content: \"▾\";}#sk-container-id-2 div.sk-estimator input.sk-toggleable__control:checked~label.sk-toggleable__label {background-color: #d4ebff;}#sk-container-id-2 div.sk-label input.sk-toggleable__control:checked~label.sk-toggleable__label {background-color: #d4ebff;}#sk-container-id-2 input.sk-hidden--visually {border: 0;clip: rect(1px 1px 1px 1px);clip: rect(1px, 1px, 1px, 1px);height: 1px;margin: -1px;overflow: hidden;padding: 0;position: absolute;width: 1px;}#sk-container-id-2 div.sk-estimator {font-family: monospace;background-color: #f0f8ff;border: 1px dotted black;border-radius: 0.25em;box-sizing: border-box;margin-bottom: 0.5em;}#sk-container-id-2 div.sk-estimator:hover {background-color: #d4ebff;}#sk-container-id-2 div.sk-parallel-item::after {content: \"\";width: 100%;border-bottom: 1px solid gray;flex-grow: 1;}#sk-container-id-2 div.sk-label:hover label.sk-toggleable__label {background-color: #d4ebff;}#sk-container-id-2 div.sk-serial::before {content: \"\";position: absolute;border-left: 1px solid gray;box-sizing: border-box;top: 0;bottom: 0;left: 50%;z-index: 0;}#sk-container-id-2 div.sk-serial {display: flex;flex-direction: column;align-items: center;background-color: white;padding-right: 0.2em;padding-left: 0.2em;position: relative;}#sk-container-id-2 div.sk-item {position: relative;z-index: 1;}#sk-container-id-2 div.sk-parallel {display: flex;align-items: stretch;justify-content: center;background-color: white;position: relative;}#sk-container-id-2 div.sk-item::before, #sk-container-id-2 div.sk-parallel-item::before {content: \"\";position: absolute;border-left: 1px solid gray;box-sizing: border-box;top: 0;bottom: 0;left: 50%;z-index: -1;}#sk-container-id-2 div.sk-parallel-item {display: flex;flex-direction: column;z-index: 1;position: relative;background-color: white;}#sk-container-id-2 div.sk-parallel-item:first-child::after {align-self: flex-end;width: 50%;}#sk-container-id-2 div.sk-parallel-item:last-child::after {align-self: flex-start;width: 50%;}#sk-container-id-2 div.sk-parallel-item:only-child::after {width: 0;}#sk-container-id-2 div.sk-dashed-wrapped {border: 1px dashed gray;margin: 0 0.4em 0.5em 0.4em;box-sizing: border-box;padding-bottom: 0.4em;background-color: white;}#sk-container-id-2 div.sk-label label {font-family: monospace;font-weight: bold;display: inline-block;line-height: 1.2em;}#sk-container-id-2 div.sk-label-container {text-align: center;}#sk-container-id-2 div.sk-container {/* jupyter's `normalize.less` sets `[hidden] { display: none; }` but bootstrap.min.css set `[hidden] { display: none !important; }` so we also need the `!important` here to be able to override the default hidden behavior on the sphinx rendered scikit-learn.org. See: https://github.com/scikit-learn/scikit-learn/issues/21755 */display: inline-block !important;position: relative;}#sk-container-id-2 div.sk-text-repr-fallback {display: none;}</style><div id=\"sk-container-id-2\" class=\"sk-top-container\"><div class=\"sk-text-repr-fallback\"><pre>GridSearchCV(cv=KFold(n_splits=5, random_state=4, shuffle=True),\n",
       "             estimator=LogisticRegression(),\n",
       "             param_grid={&#x27;C&#x27;: [0.01, 0.1, 1, 10, 100, 1000]},\n",
       "             return_train_score=True, scoring=&#x27;roc_auc&#x27;, verbose=1)</pre><b>In a Jupyter environment, please rerun this cell to show the HTML representation or trust the notebook. <br />On GitHub, the HTML representation is unable to render, please try loading this page with nbviewer.org.</b></div><div class=\"sk-container\" hidden><div class=\"sk-item sk-dashed-wrapped\"><div class=\"sk-label-container\"><div class=\"sk-label sk-toggleable\"><input class=\"sk-toggleable__control sk-hidden--visually\" id=\"sk-estimator-id-4\" type=\"checkbox\" ><label for=\"sk-estimator-id-4\" class=\"sk-toggleable__label sk-toggleable__label-arrow\">GridSearchCV</label><div class=\"sk-toggleable__content\"><pre>GridSearchCV(cv=KFold(n_splits=5, random_state=4, shuffle=True),\n",
       "             estimator=LogisticRegression(),\n",
       "             param_grid={&#x27;C&#x27;: [0.01, 0.1, 1, 10, 100, 1000]},\n",
       "             return_train_score=True, scoring=&#x27;roc_auc&#x27;, verbose=1)</pre></div></div></div><div class=\"sk-parallel\"><div class=\"sk-parallel-item\"><div class=\"sk-item\"><div class=\"sk-label-container\"><div class=\"sk-label sk-toggleable\"><input class=\"sk-toggleable__control sk-hidden--visually\" id=\"sk-estimator-id-5\" type=\"checkbox\" ><label for=\"sk-estimator-id-5\" class=\"sk-toggleable__label sk-toggleable__label-arrow\">estimator: LogisticRegression</label><div class=\"sk-toggleable__content\"><pre>LogisticRegression()</pre></div></div></div><div class=\"sk-serial\"><div class=\"sk-item\"><div class=\"sk-estimator sk-toggleable\"><input class=\"sk-toggleable__control sk-hidden--visually\" id=\"sk-estimator-id-6\" type=\"checkbox\" ><label for=\"sk-estimator-id-6\" class=\"sk-toggleable__label sk-toggleable__label-arrow\">LogisticRegression</label><div class=\"sk-toggleable__content\"><pre>LogisticRegression()</pre></div></div></div></div></div></div></div></div></div></div>"
      ],
      "text/plain": [
       "GridSearchCV(cv=KFold(n_splits=5, random_state=4, shuffle=True),\n",
       "             estimator=LogisticRegression(),\n",
       "             param_grid={'C': [0.01, 0.1, 1, 10, 100, 1000]},\n",
       "             return_train_score=True, scoring='roc_auc', verbose=1)"
      ]
     },
     "execution_count": 61,
     "metadata": {},
     "output_type": "execute_result"
    }
   ],
   "source": [
    "# Creating KFold object with 5 splits\n",
    "folds = KFold(n_splits=5, shuffle=True, random_state=4)\n",
    "\n",
    "# Specify params\n",
    "params = {\"C\": [0.01, 0.1, 1, 10, 100, 1000]}\n",
    "\n",
    "# Specifing score as recall as we are more focused on acheiving the higher sensitivity than the accuracy\n",
    "model_cv = GridSearchCV(estimator = LogisticRegression(),\n",
    "                        param_grid = params, \n",
    "                        scoring= 'roc_auc', \n",
    "                        cv = folds, \n",
    "                        verbose = 1,\n",
    "                        return_train_score=True) \n",
    "\n",
    "# Fit the model\n",
    "model_cv.fit(X_train, y_train)"
   ]
  },
  {
   "cell_type": "code",
   "execution_count": 62,
   "metadata": {
    "colab": {
     "base_uri": "https://localhost:8080/",
     "height": 340
    },
    "colab_type": "code",
    "id": "1srhQzaPu6aZ",
    "outputId": "455fd28a-74c2-4eee-8673-4d73302304d6"
   },
   "outputs": [
    {
     "data": {
      "text/html": [
       "<div>\n",
       "<style scoped>\n",
       "    .dataframe tbody tr th:only-of-type {\n",
       "        vertical-align: middle;\n",
       "    }\n",
       "\n",
       "    .dataframe tbody tr th {\n",
       "        vertical-align: top;\n",
       "    }\n",
       "\n",
       "    .dataframe thead th {\n",
       "        text-align: right;\n",
       "    }\n",
       "</style>\n",
       "<table border=\"1\" class=\"dataframe\">\n",
       "  <thead>\n",
       "    <tr style=\"text-align: right;\">\n",
       "      <th></th>\n",
       "      <th>mean_fit_time</th>\n",
       "      <th>std_fit_time</th>\n",
       "      <th>mean_score_time</th>\n",
       "      <th>std_score_time</th>\n",
       "      <th>param_C</th>\n",
       "      <th>params</th>\n",
       "      <th>split0_test_score</th>\n",
       "      <th>split1_test_score</th>\n",
       "      <th>split2_test_score</th>\n",
       "      <th>split3_test_score</th>\n",
       "      <th>split4_test_score</th>\n",
       "      <th>mean_test_score</th>\n",
       "      <th>std_test_score</th>\n",
       "      <th>rank_test_score</th>\n",
       "      <th>split0_train_score</th>\n",
       "      <th>split1_train_score</th>\n",
       "      <th>split2_train_score</th>\n",
       "      <th>split3_train_score</th>\n",
       "      <th>split4_train_score</th>\n",
       "      <th>mean_train_score</th>\n",
       "      <th>std_train_score</th>\n",
       "    </tr>\n",
       "  </thead>\n",
       "  <tbody>\n",
       "    <tr>\n",
       "      <th>0</th>\n",
       "      <td>1.132229</td>\n",
       "      <td>0.097475</td>\n",
       "      <td>0.017991</td>\n",
       "      <td>0.001094</td>\n",
       "      <td>0.01</td>\n",
       "      <td>{'C': 0.01}</td>\n",
       "      <td>0.989985</td>\n",
       "      <td>0.987068</td>\n",
       "      <td>0.960502</td>\n",
       "      <td>0.981381</td>\n",
       "      <td>0.994863</td>\n",
       "      <td>0.982760</td>\n",
       "      <td>0.011955</td>\n",
       "      <td>1</td>\n",
       "      <td>0.982926</td>\n",
       "      <td>0.983879</td>\n",
       "      <td>0.989152</td>\n",
       "      <td>0.985569</td>\n",
       "      <td>0.982082</td>\n",
       "      <td>0.984722</td>\n",
       "      <td>0.002500</td>\n",
       "    </tr>\n",
       "    <tr>\n",
       "      <th>1</th>\n",
       "      <td>1.891142</td>\n",
       "      <td>0.109274</td>\n",
       "      <td>0.017592</td>\n",
       "      <td>0.000799</td>\n",
       "      <td>0.1</td>\n",
       "      <td>{'C': 0.1}</td>\n",
       "      <td>0.988766</td>\n",
       "      <td>0.983745</td>\n",
       "      <td>0.944545</td>\n",
       "      <td>0.976423</td>\n",
       "      <td>0.993048</td>\n",
       "      <td>0.977305</td>\n",
       "      <td>0.017290</td>\n",
       "      <td>2</td>\n",
       "      <td>0.978208</td>\n",
       "      <td>0.980896</td>\n",
       "      <td>0.986065</td>\n",
       "      <td>0.980638</td>\n",
       "      <td>0.979143</td>\n",
       "      <td>0.980990</td>\n",
       "      <td>0.002722</td>\n",
       "    </tr>\n",
       "    <tr>\n",
       "      <th>2</th>\n",
       "      <td>2.207735</td>\n",
       "      <td>0.194341</td>\n",
       "      <td>0.021788</td>\n",
       "      <td>0.005304</td>\n",
       "      <td>1</td>\n",
       "      <td>{'C': 1}</td>\n",
       "      <td>0.988469</td>\n",
       "      <td>0.981235</td>\n",
       "      <td>0.939152</td>\n",
       "      <td>0.973004</td>\n",
       "      <td>0.991955</td>\n",
       "      <td>0.974763</td>\n",
       "      <td>0.018955</td>\n",
       "      <td>3</td>\n",
       "      <td>0.975966</td>\n",
       "      <td>0.979406</td>\n",
       "      <td>0.984357</td>\n",
       "      <td>0.978347</td>\n",
       "      <td>0.977842</td>\n",
       "      <td>0.979184</td>\n",
       "      <td>0.002817</td>\n",
       "    </tr>\n",
       "    <tr>\n",
       "      <th>3</th>\n",
       "      <td>2.402661</td>\n",
       "      <td>0.113019</td>\n",
       "      <td>0.019589</td>\n",
       "      <td>0.001496</td>\n",
       "      <td>10</td>\n",
       "      <td>{'C': 10}</td>\n",
       "      <td>0.988434</td>\n",
       "      <td>0.980816</td>\n",
       "      <td>0.938500</td>\n",
       "      <td>0.972511</td>\n",
       "      <td>0.991801</td>\n",
       "      <td>0.974412</td>\n",
       "      <td>0.019148</td>\n",
       "      <td>4</td>\n",
       "      <td>0.975659</td>\n",
       "      <td>0.979192</td>\n",
       "      <td>0.984118</td>\n",
       "      <td>0.978034</td>\n",
       "      <td>0.977663</td>\n",
       "      <td>0.978933</td>\n",
       "      <td>0.002832</td>\n",
       "    </tr>\n",
       "    <tr>\n",
       "      <th>4</th>\n",
       "      <td>2.399340</td>\n",
       "      <td>0.068033</td>\n",
       "      <td>0.019590</td>\n",
       "      <td>0.002798</td>\n",
       "      <td>100</td>\n",
       "      <td>{'C': 100}</td>\n",
       "      <td>0.988431</td>\n",
       "      <td>0.980757</td>\n",
       "      <td>0.938433</td>\n",
       "      <td>0.972466</td>\n",
       "      <td>0.991779</td>\n",
       "      <td>0.974373</td>\n",
       "      <td>0.019166</td>\n",
       "      <td>5</td>\n",
       "      <td>0.975625</td>\n",
       "      <td>0.979167</td>\n",
       "      <td>0.984095</td>\n",
       "      <td>0.978002</td>\n",
       "      <td>0.977644</td>\n",
       "      <td>0.978907</td>\n",
       "      <td>0.002835</td>\n",
       "    </tr>\n",
       "    <tr>\n",
       "      <th>5</th>\n",
       "      <td>2.315268</td>\n",
       "      <td>0.149338</td>\n",
       "      <td>0.020390</td>\n",
       "      <td>0.004408</td>\n",
       "      <td>1000</td>\n",
       "      <td>{'C': 1000}</td>\n",
       "      <td>0.988432</td>\n",
       "      <td>0.980759</td>\n",
       "      <td>0.938422</td>\n",
       "      <td>0.972462</td>\n",
       "      <td>0.991777</td>\n",
       "      <td>0.974370</td>\n",
       "      <td>0.019170</td>\n",
       "      <td>6</td>\n",
       "      <td>0.975623</td>\n",
       "      <td>0.979166</td>\n",
       "      <td>0.984088</td>\n",
       "      <td>0.978000</td>\n",
       "      <td>0.977640</td>\n",
       "      <td>0.978903</td>\n",
       "      <td>0.002833</td>\n",
       "    </tr>\n",
       "  </tbody>\n",
       "</table>\n",
       "</div>"
      ],
      "text/plain": [
       "   mean_fit_time  std_fit_time  mean_score_time  std_score_time param_C  \\\n",
       "0       1.132229      0.097475         0.017991        0.001094    0.01   \n",
       "1       1.891142      0.109274         0.017592        0.000799     0.1   \n",
       "2       2.207735      0.194341         0.021788        0.005304       1   \n",
       "3       2.402661      0.113019         0.019589        0.001496      10   \n",
       "4       2.399340      0.068033         0.019590        0.002798     100   \n",
       "5       2.315268      0.149338         0.020390        0.004408    1000   \n",
       "\n",
       "        params  split0_test_score  split1_test_score  split2_test_score  \\\n",
       "0  {'C': 0.01}           0.989985           0.987068           0.960502   \n",
       "1   {'C': 0.1}           0.988766           0.983745           0.944545   \n",
       "2     {'C': 1}           0.988469           0.981235           0.939152   \n",
       "3    {'C': 10}           0.988434           0.980816           0.938500   \n",
       "4   {'C': 100}           0.988431           0.980757           0.938433   \n",
       "5  {'C': 1000}           0.988432           0.980759           0.938422   \n",
       "\n",
       "   split3_test_score  split4_test_score  mean_test_score  std_test_score  \\\n",
       "0           0.981381           0.994863         0.982760        0.011955   \n",
       "1           0.976423           0.993048         0.977305        0.017290   \n",
       "2           0.973004           0.991955         0.974763        0.018955   \n",
       "3           0.972511           0.991801         0.974412        0.019148   \n",
       "4           0.972466           0.991779         0.974373        0.019166   \n",
       "5           0.972462           0.991777         0.974370        0.019170   \n",
       "\n",
       "   rank_test_score  split0_train_score  split1_train_score  \\\n",
       "0                1            0.982926            0.983879   \n",
       "1                2            0.978208            0.980896   \n",
       "2                3            0.975966            0.979406   \n",
       "3                4            0.975659            0.979192   \n",
       "4                5            0.975625            0.979167   \n",
       "5                6            0.975623            0.979166   \n",
       "\n",
       "   split2_train_score  split3_train_score  split4_train_score  \\\n",
       "0            0.989152            0.985569            0.982082   \n",
       "1            0.986065            0.980638            0.979143   \n",
       "2            0.984357            0.978347            0.977842   \n",
       "3            0.984118            0.978034            0.977663   \n",
       "4            0.984095            0.978002            0.977644   \n",
       "5            0.984088            0.978000            0.977640   \n",
       "\n",
       "   mean_train_score  std_train_score  \n",
       "0          0.984722         0.002500  \n",
       "1          0.980990         0.002722  \n",
       "2          0.979184         0.002817  \n",
       "3          0.978933         0.002832  \n",
       "4          0.978907         0.002835  \n",
       "5          0.978903         0.002833  "
      ]
     },
     "execution_count": 62,
     "metadata": {},
     "output_type": "execute_result"
    }
   ],
   "source": [
    "# results of grid search CV\n",
    "cv_results = pd.DataFrame(model_cv.cv_results_)\n",
    "cv_results"
   ]
  },
  {
   "cell_type": "code",
   "execution_count": 63,
   "metadata": {
    "colab": {
     "base_uri": "https://localhost:8080/",
     "height": 392
    },
    "colab_type": "code",
    "id": "eQHPJncVu6af",
    "outputId": "2ae64ea3-5903-413e-8b28-aa45967d19a9"
   },
   "outputs": [
    {
     "data": {
      "image/png": "[encoded data removed]",
      "text/plain": [
       "<Figure size 576x432 with 1 Axes>"
      ]
     },
     "metadata": {
      "needs_background": "light"
     },
     "output_type": "display_data"
    }
   ],
   "source": [
    "# plot of C versus train and validation scores\n",
    "\n",
    "plt.figure(figsize=(8, 6))\n",
    "plt.plot(cv_results['param_C'], cv_results['mean_test_score'])\n",
    "plt.plot(cv_results['param_C'], cv_results['mean_train_score'])\n",
    "plt.xlabel('C')\n",
    "plt.ylabel('roc_auc')\n",
    "plt.legend(['test result', 'train result'], loc='upper left')\n",
    "plt.xscale('log')"
   ]
  },
  {
   "cell_type": "code",
   "execution_count": 64,
   "metadata": {
    "colab": {
     "base_uri": "https://localhost:8080/",
     "height": 34
    },
    "colab_type": "code",
    "id": "R2WOKQIuu6ap",
    "outputId": "1217dd08-dddc-473e-b5d3-5cfc1c101e76"
   },
   "outputs": [
    {
     "name": "stdout",
     "output_type": "stream",
     "text": [
      " The highest test roc_auc is 0.982759784502613 at C = 0.01\n"
     ]
    }
   ],
   "source": [
    "# Best score with best C\n",
    "best_score = model_cv.best_score_\n",
    "best_C = model_cv.best_params_['C']\n",
    "\n",
    "print(\" The highest test roc_auc is {0} at C = {1}\".format(best_score, best_C))"
   ]
  },
  {
   "cell_type": "markdown",
   "metadata": {
    "colab_type": "text",
    "id": "EDh_h9P7u6ay"
   },
   "source": [
    "#### Logistic regression with optimal C"
   ]
  },
  {
   "cell_type": "code",
   "execution_count": 65,
   "metadata": {
    "colab": {},
    "colab_type": "code",
    "id": "x4iUliVvu6a0"
   },
   "outputs": [],
   "source": [
    "# Instantiate the model with best C\n",
    "logistic_imb = LogisticRegression(C=0.01)"
   ]
  },
  {
   "cell_type": "code",
   "execution_count": 66,
   "metadata": {
    "colab": {},
    "colab_type": "code",
    "id": "fEPWrysIu6a7"
   },
   "outputs": [],
   "source": [
    "# Fit the model on the train set\n",
    "logistic_imb_model = logistic_imb.fit(X_train, y_train)"
   ]
  },
  {
   "cell_type": "code",
   "execution_count": 67,
   "metadata": {
    "colab": {},
    "colab_type": "code",
    "id": "mmHmFtRdu6bc"
   },
   "outputs": [],
   "source": [
    "# Predictions on the train set\n",
    "y_train_pred = logistic_imb_model.predict(X_train)"
   ]
  },
  {
   "cell_type": "code",
   "execution_count": 68,
   "metadata": {
    "colab": {
     "base_uri": "https://localhost:8080/",
     "height": 51
    },
    "colab_type": "code",
    "id": "UH2_OXo2u6bh",
    "outputId": "45de9b1e-2190-4c12-c1f4-a49fa622cb86"
   },
   "outputs": [
    {
     "name": "stdout",
     "output_type": "stream",
     "text": [
      "[[227425     24]\n",
      " [   145    251]]\n"
     ]
    }
   ],
   "source": [
    "# Confusion matrix\n",
    "confusion = metrics.confusion_matrix(y_train, y_train_pred)\n",
    "print(confusion)"
   ]
  },
  {
   "cell_type": "code",
   "execution_count": 69,
   "metadata": {
    "colab": {},
    "colab_type": "code",
    "id": "ZXhDRhYDu6bm"
   },
   "outputs": [],
   "source": [
    "TP = confusion[1,1] # true positive \n",
    "TN = confusion[0,0] # true negatives\n",
    "FP = confusion[0,1] # false positives\n",
    "FN = confusion[1,0] # false negatives"
   ]
  },
  {
   "cell_type": "code",
   "execution_count": 70,
   "metadata": {
    "colab": {
     "base_uri": "https://localhost:8080/",
     "height": 85
    },
    "colab_type": "code",
    "id": "cb5nfmExu6bu",
    "outputId": "06d2f11a-8471-4f19-89c5-b76f35e9e434"
   },
   "outputs": [
    {
     "name": "stdout",
     "output_type": "stream",
     "text": [
      "Accuracy:- 0.9992582676819768\n",
      "Sensitivity:- 0.6338383838383839\n",
      "Specificity:- 0.9998944818398849\n",
      "F1-Score:- 0.7481371087928466\n"
     ]
    }
   ],
   "source": [
    "# Accuracy\n",
    "print(\"Accuracy:-\",metrics.accuracy_score(y_train, y_train_pred))\n",
    "\n",
    "# Sensitivity\n",
    "print(\"Sensitivity:-\",TP / float(TP+FN))\n",
    "\n",
    "# Specificity\n",
    "print(\"Specificity:-\", TN / float(TN+FP))\n",
    "\n",
    "# F1 score\n",
    "print(\"F1-Score:-\", f1_score(y_train, y_train_pred))"
   ]
  },
  {
   "cell_type": "code",
   "execution_count": 46,
   "metadata": {},
   "outputs": [
    {
     "name": "stdout",
     "output_type": "stream",
     "text": [
      "              precision    recall  f1-score   support\n",
      "\n",
      "           0       1.00      1.00      1.00    227449\n",
      "           1       0.92      0.66      0.77       396\n",
      "\n",
      "    accuracy                           1.00    227845\n",
      "   macro avg       0.96      0.83      0.88    227845\n",
      "weighted avg       1.00      1.00      1.00    227845\n",
      "\n"
     ]
    }
   ],
   "source": [
    "# classification_report\n",
    "print(classification_report(y_train, y_train_pred))"
   ]
  },
  {
   "cell_type": "code",
   "execution_count": null,
   "metadata": {
    "colab": {},
    "colab_type": "code",
    "id": "CqQli61Gu6bz"
   },
   "outputs": [],
   "source": [
    "# ROC Curve function\n",
    "\n",
    "def draw_roc( actual, probs ):\n",
    "    fpr, tpr, thresholds = metrics.roc_curve( actual, probs,\n",
    "                                              drop_intermediate = False )\n",
    "    auc_score = metrics.roc_auc_score( actual, probs )\n",
    "    plt.figure(figsize=(5, 5))\n",
    "    plt.plot( fpr, tpr, label='ROC curve (area = %0.2f)' % auc_score )\n",
    "    plt.plot([0, 1], [0, 1], 'k--')\n",
    "    plt.xlim([0.0, 1.0])\n",
    "    plt.ylim([0.0, 1.05])\n",
    "    plt.xlabel('False Positive Rate or [1 - True Negative Rate]')\n",
    "    plt.ylabel('True Positive Rate')\n",
    "    plt.title('Receiver operating characteristic example')\n",
    "    plt.legend(loc=\"lower right\")\n",
    "    plt.show()\n",
    "\n",
    "    return None"
   ]
  },
  {
   "cell_type": "markdown",
   "metadata": {
    "colab_type": "text",
    "id": "Iwomdpwcu6cJ"
   },
   "source": [
    "We acheived very good ROC 0.99 on the train set."
   ]
  },
  {
   "cell_type": "markdown",
   "metadata": {
    "colab_type": "text",
    "id": "npP3Sjspu6cw"
   },
   "source": [
    "\n",
    "- Train set\n",
    "    - Accuracy = 0.99\n",
    "    - Sensitivity = 0.70\n",
    "    - Specificity = 0.99\n",
    "    - F1-Score = 0.76\n",
    "    - ROC = 0.99\n",
    "- Test set\n",
    "    - Accuracy = 0.99\n",
    "    - Sensitivity = 0.77\n",
    "    - Specificity = 0.99\n",
    "    - F1-Score = 0.65\n",
    "    - ROC = 0.97\n",
    "\n",
    "the model is performing well in the test set, what it had learnt from the train set."
   ]
  },
  {
   "cell_type": "code",
   "execution_count": 181,
   "metadata": {},
   "outputs": [
    {
     "data": {
      "image/png": "[encoded data removed]",
      "text/plain": [
       "<Figure size 360x360 with 1 Axes>"
      ]
     },
     "metadata": {
      "needs_background": "light"
     },
     "output_type": "display_data"
    }
   ],
   "source": [
    "# Plot the ROC curve\n",
    "draw_roc(y_train_rus, y_train_pred_proba)"
   ]
  },
  {
   "cell_type": "markdown",
   "metadata": {
    "colab_type": "text",
    "id": "BCWFhkrH03BX"
   },
   "source": [
    "##### Prediction on the test set"
   ]
  },
  {
   "cell_type": "code",
   "execution_count": 182,
   "metadata": {
    "colab": {},
    "colab_type": "code",
    "id": "Lb145DuR03BX"
   },
   "outputs": [],
   "source": [
    "# Predictions on the test set\n",
    "y_test_pred = rfc_bal_rus_model.predict(X_test)"
   ]
  },
  {
   "cell_type": "code",
   "execution_count": 183,
   "metadata": {
    "colab": {
     "base_uri": "https://localhost:8080/",
     "height": 51
    },
    "colab_type": "code",
    "id": "KvQaY_V803Bb",
    "outputId": "620cd3f2-9ad7-42bb-c6b6-7146f0781d58"
   },
   "outputs": [
    {
     "name": "stdout",
     "output_type": "stream",
     "text": [
      "[[55832  1034]\n",
      " [   18    78]]\n"
     ]
    }
   ],
   "source": [
    "# Confusion matrix\n",
    "confusion = metrics.confusion_matrix(y_test, y_test_pred)\n",
    "print(confusion)"
   ]
  },
  {
   "cell_type": "code",
   "execution_count": 184,
   "metadata": {
    "colab": {},
    "colab_type": "code",
    "id": "JB2O-lhq03Bf"
   },
   "outputs": [],
   "source": [
    "TP = confusion[1,1] # true positive \n",
    "TN = confusion[0,0] # true negatives\n",
    "FP = confusion[0,1] # false positives\n",
    "FN = confusion[1,0] # false negatives"
   ]
  },
  {
   "cell_type": "markdown",
   "metadata": {},
   "source": [
    "## 5. Evaluating the model"
   ]
  },
  {
   "cell_type": "code",
   "execution_count": 185,
   "metadata": {
    "colab": {
     "base_uri": "https://localhost:8080/",
     "height": 85
    },
    "colab_type": "code",
    "id": "lQuNUr_e03Bi",
    "outputId": "c84b0491-990b-4e2e-e53b-94e172cf0fdc"
   },
   "outputs": [
    {
     "name": "stdout",
     "output_type": "stream",
     "text": [
      "Accuracy:- 0.9815315473473544\n",
      "Sensitivity:- 0.8125\n",
      "Specificity:- 0.981816902894524\n"
     ]
    }
   ],
   "source": [
    "# Accuracy\n",
    "print(\"Accuracy:-\",metrics.accuracy_score(y_test, y_test_pred))\n",
    "\n",
    "# Sensitivity\n",
    "print(\"Sensitivity:-\",TP / float(TP+FN))\n",
    "\n",
    "# Specificity\n",
    "print(\"Specificity:-\", TN / float(TN+FP))"
   ]
  },
  {
   "cell_type": "code",
   "execution_count": 186,
   "metadata": {},
   "outputs": [
    {
     "name": "stdout",
     "output_type": "stream",
     "text": [
      "              precision    recall  f1-score   support\n",
      "\n",
      "           0       1.00      0.98      0.99     56866\n",
      "           1       0.07      0.81      0.13        96\n",
      "\n",
      "    accuracy                           0.98     56962\n",
      "   macro avg       0.53      0.90      0.56     56962\n",
      "weighted avg       1.00      0.98      0.99     56962\n",
      "\n"
     ]
    }
   ],
   "source": [
    "# classification_report\n",
    "print(classification_report(y_test, y_test_pred))"
   ]
  },
  {
   "cell_type": "code",
   "execution_count": 187,
   "metadata": {
    "colab": {},
    "colab_type": "code",
    "id": "j7ii-X4N03Bl"
   },
   "outputs": [],
   "source": [
    "# Predicted probability\n",
    "y_test_pred_proba = rfc_bal_rus_model.predict_proba(X_test)[:,1]"
   ]
  },
  {
   "cell_type": "code",
   "execution_count": 188,
   "metadata": {
    "colab": {
     "base_uri": "https://localhost:8080/",
     "height": 34
    },
    "colab_type": "code",
    "id": "ntZp7y0703Bp",
    "outputId": "09020958-b7d0-475f-bb71-c2a3a6e30a74"
   },
   "outputs": [
    {
     "data": {
      "text/plain": [
       "0.9730361178032567"
      ]
     },
     "execution_count": 188,
     "metadata": {},
     "output_type": "execute_result"
    }
   ],
   "source": [
    "# roc_auc\n",
    "auc = metrics.roc_auc_score(y_test, y_test_pred_proba)\n",
    "auc"
   ]
  },
  {
   "cell_type": "code",
   "execution_count": 189,
   "metadata": {},
   "outputs": [
    {
     "data": {
      "image/png": "[encoded data removed]",
      "text/plain": [
       "<Figure size 360x360 with 1 Axes>"
      ]
     },
     "metadata": {
      "needs_background": "light"
     },
     "output_type": "display_data"
    }
   ],
   "source": [
    "# Plot the ROC curve\n",
    "draw_roc(y_test, y_test_pred_proba)"
   ]
  },
  {
   "cell_type": "markdown",
   "metadata": {
    "colab_type": "text",
    "id": "TyoY29bj03Bt"
   },
   "source": [
    "***Model summary***\n",
    "\n",
    "- Train set\n",
    "    - Accuracy = 0.94\n",
    "    - Sensitivity = 0.89\n",
    "    - Specificity = 0.98\n",
    "    - ROC-AUC = 0.98\n",
    "- Test set\n",
    "    - Accuracy = 0.98\n",
    "    - Sensitivity = 0.83\n",
    "    - Specificity = 0.98\n",
    "    - ROC-AUC = 0.97"
   ]
  }
 ],
 "metadata": {
  "accelerator": "GPU",
  "colab": {
   "name": "Sahidul-Credit-Card-Fraud-Detection.ipynb",
   "provenance": []
  },
  "hide_input": false,
  "kernelspec": {
   "display_name": "Python 3 (ipykernel)",
   "language": "python",
   "name": "python3"
  },
  "language_info": {
   "codemirror_mode": {
    "name": "ipython",
    "version": 3
   },
   "file_extension": ".py",
   "mimetype": "text/x-python",
   "name": "python",
   "nbconvert_exporter": "python",
   "pygments_lexer": "ipython3",
   "version": "3.10.0"
  }
 },
 "nbformat": 4,
 "nbformat_minor": 1
}
